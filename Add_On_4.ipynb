{
 "cells": [
  {
   "cell_type": "code",
   "execution_count": 3,
   "id": "PPfF4-l-rg_T",
   "metadata": {
    "colab": {
     "base_uri": "https://localhost:8080/",
     "height": 1000
    },
    "id": "PPfF4-l-rg_T",
    "outputId": "83e6821c-7b5d-4ca6-8474-57006a563133"
   },
   "outputs": [
    {
     "name": "stdout",
     "output_type": "stream",
     "text": [
      "Requirement already satisfied: talos in c:\\users\\940266\\anaconda3\\lib\\site-packages (1.0.2)\n",
      "Requirement already satisfied: pandas in c:\\users\\940266\\anaconda3\\lib\\site-packages (from talos) (1.2.4)\n",
      "Requirement already satisfied: chances in c:\\users\\940266\\anaconda3\\lib\\site-packages (from talos) (0.1.9)\n",
      "Requirement already satisfied: wrangle in c:\\users\\940266\\anaconda3\\lib\\site-packages (from talos) (0.6.11)\n",
      "Requirement already satisfied: sklearn in c:\\users\\940266\\anaconda3\\lib\\site-packages (from talos) (0.0)\n",
      "Requirement already satisfied: tqdm in c:\\users\\940266\\anaconda3\\lib\\site-packages (from talos) (4.59.0)\n",
      "Requirement already satisfied: statsmodels>=0.11.0 in c:\\users\\940266\\anaconda3\\lib\\site-packages (from talos) (0.12.2)\n",
      "Requirement already satisfied: tensorflow>=2.0.0 in c:\\users\\940266\\anaconda3\\lib\\site-packages (from talos) (2.8.0)\n",
      "Requirement already satisfied: astetik in c:\\users\\940266\\anaconda3\\lib\\site-packages (from talos) (1.11.1)\n",
      "Requirement already satisfied: kerasplotlib in c:\\users\\940266\\anaconda3\\lib\\site-packages (from talos) (0.2.1)\n",
      "Requirement already satisfied: numpy in c:\\users\\940266\\anaconda3\\lib\\site-packages (from talos) (1.22.3)\n",
      "Requirement already satisfied: requests in c:\\users\\940266\\anaconda3\\lib\\site-packages (from talos) (2.25.1)\n",
      "Requirement already satisfied: scipy>=1.1 in c:\\users\\940266\\anaconda3\\lib\\site-packages (from statsmodels>=0.11.0->talos) (1.7.1)\n",
      "Requirement already satisfied: patsy>=0.5 in c:\\users\\940266\\anaconda3\\lib\\site-packages (from statsmodels>=0.11.0->talos) (0.5.1)\n",
      "Requirement already satisfied: pytz>=2017.3 in c:\\users\\940266\\anaconda3\\lib\\site-packages (from pandas->talos) (2021.1)\n",
      "Requirement already satisfied: python-dateutil>=2.7.3 in c:\\users\\940266\\anaconda3\\lib\\site-packages (from pandas->talos) (2.8.1)\n",
      "Requirement already satisfied: typing-extensions>=3.6.6 in c:\\users\\940266\\anaconda3\\lib\\site-packages (from tensorflow>=2.0.0->talos) (3.7.4.3)\n",
      "Requirement already satisfied: keras<2.9,>=2.8.0rc0 in c:\\users\\940266\\anaconda3\\lib\\site-packages (from tensorflow>=2.0.0->talos) (2.8.0)\n",
      "Requirement already satisfied: gast>=0.2.1 in c:\\users\\940266\\anaconda3\\lib\\site-packages (from tensorflow>=2.0.0->talos) (0.4.0)\n",
      "Requirement already satisfied: absl-py>=0.4.0 in c:\\users\\940266\\anaconda3\\lib\\site-packages (from tensorflow>=2.0.0->talos) (0.13.0)\n",
      "Requirement already satisfied: grpcio<2.0,>=1.24.3 in c:\\users\\940266\\anaconda3\\lib\\site-packages (from tensorflow>=2.0.0->talos) (1.34.1)\n",
      "Requirement already satisfied: tensorboard<2.9,>=2.8 in c:\\users\\940266\\anaconda3\\lib\\site-packages (from tensorflow>=2.0.0->talos) (2.8.0)\n",
      "Requirement already satisfied: keras-preprocessing>=1.1.1 in c:\\users\\940266\\anaconda3\\lib\\site-packages (from tensorflow>=2.0.0->talos) (1.1.2)\n",
      "Requirement already satisfied: six>=1.12.0 in c:\\users\\940266\\anaconda3\\lib\\site-packages (from tensorflow>=2.0.0->talos) (1.15.0)\n",
      "Requirement already satisfied: google-pasta>=0.1.1 in c:\\users\\940266\\anaconda3\\lib\\site-packages (from tensorflow>=2.0.0->talos) (0.2.0)\n",
      "Requirement already satisfied: opt-einsum>=2.3.2 in c:\\users\\940266\\anaconda3\\lib\\site-packages (from tensorflow>=2.0.0->talos) (3.3.0)\n",
      "Requirement already satisfied: astunparse>=1.6.0 in c:\\users\\940266\\anaconda3\\lib\\site-packages (from tensorflow>=2.0.0->talos) (1.6.3)\n",
      "Requirement already satisfied: flatbuffers>=1.12 in c:\\users\\940266\\anaconda3\\lib\\site-packages (from tensorflow>=2.0.0->talos) (1.12)\n",
      "Requirement already satisfied: libclang>=9.0.1 in c:\\users\\940266\\anaconda3\\lib\\site-packages (from tensorflow>=2.0.0->talos) (13.0.0)\n",
      "Requirement already satisfied: protobuf>=3.9.2 in c:\\users\\940266\\anaconda3\\lib\\site-packages (from tensorflow>=2.0.0->talos) (3.17.3)\n",
      "Requirement already satisfied: h5py>=2.9.0 in c:\\users\\940266\\anaconda3\\lib\\site-packages (from tensorflow>=2.0.0->talos) (3.1.0)\n",
      "Requirement already satisfied: setuptools in c:\\users\\940266\\anaconda3\\lib\\site-packages (from tensorflow>=2.0.0->talos) (52.0.0.post20210125)\n",
      "Requirement already satisfied: tf-estimator-nightly==2.8.0.dev2021122109 in c:\\users\\940266\\anaconda3\\lib\\site-packages (from tensorflow>=2.0.0->talos) (2.8.0.dev2021122109)\n",
      "Requirement already satisfied: termcolor>=1.1.0 in c:\\users\\940266\\anaconda3\\lib\\site-packages (from tensorflow>=2.0.0->talos) (1.1.0)\n",
      "Requirement already satisfied: wrapt>=1.11.0 in c:\\users\\940266\\anaconda3\\lib\\site-packages (from tensorflow>=2.0.0->talos) (1.12.1)\n",
      "Requirement already satisfied: tensorflow-io-gcs-filesystem>=0.23.1 in c:\\users\\940266\\anaconda3\\lib\\site-packages (from tensorflow>=2.0.0->talos) (0.24.0)\n",
      "Requirement already satisfied: geonamescache in c:\\users\\940266\\anaconda3\\lib\\site-packages (from astetik->talos) (1.3.0)\n",
      "Requirement already satisfied: IPython in c:\\users\\940266\\anaconda3\\lib\\site-packages (from astetik->talos) (7.22.0)\n",
      "Requirement already satisfied: seaborn in c:\\users\\940266\\anaconda3\\lib\\site-packages (from astetik->talos) (0.11.1)\n",
      "Requirement already satisfied: matplotlib in c:\\users\\940266\\anaconda3\\lib\\site-packages (from kerasplotlib->talos) (3.3.4)\n",
      "Requirement already satisfied: urllib3<1.27,>=1.21.1 in c:\\users\\940266\\anaconda3\\lib\\site-packages (from requests->talos) (1.26.4)\n",
      "Requirement already satisfied: certifi>=2017.4.17 in c:\\users\\940266\\anaconda3\\lib\\site-packages (from requests->talos) (2020.12.5)\n",
      "Requirement already satisfied: chardet<5,>=3.0.2 in c:\\users\\940266\\anaconda3\\lib\\site-packages (from requests->talos) (3.0.4)\n",
      "Requirement already satisfied: idna<3,>=2.5 in c:\\users\\940266\\anaconda3\\lib\\site-packages (from requests->talos) (2.10)\n",
      "Requirement already satisfied: scikit-learn in c:\\users\\940266\\anaconda3\\lib\\site-packages (from sklearn->talos) (0.24.2)\n",
      "Requirement already satisfied: wheel<1.0,>=0.23.0 in c:\\users\\940266\\anaconda3\\lib\\site-packages (from astunparse>=1.6.0->tensorflow>=2.0.0->talos) (0.36.2)\n",
      "Requirement already satisfied: tensorboard-plugin-wit>=1.6.0 in c:\\users\\940266\\anaconda3\\lib\\site-packages (from tensorboard<2.9,>=2.8->tensorflow>=2.0.0->talos) (1.8.0)\n",
      "Requirement already satisfied: google-auth<3,>=1.6.3 in c:\\users\\940266\\anaconda3\\lib\\site-packages (from tensorboard<2.9,>=2.8->tensorflow>=2.0.0->talos) (1.32.1)\n",
      "Requirement already satisfied: tensorboard-data-server<0.7.0,>=0.6.0 in c:\\users\\940266\\anaconda3\\lib\\site-packages (from tensorboard<2.9,>=2.8->tensorflow>=2.0.0->talos) (0.6.1)\n",
      "Requirement already satisfied: werkzeug>=0.11.15 in c:\\users\\940266\\anaconda3\\lib\\site-packages (from tensorboard<2.9,>=2.8->tensorflow>=2.0.0->talos) (1.0.1)\n",
      "Requirement already satisfied: google-auth-oauthlib<0.5,>=0.4.1 in c:\\users\\940266\\anaconda3\\lib\\site-packages (from tensorboard<2.9,>=2.8->tensorflow>=2.0.0->talos) (0.4.4)\n",
      "Requirement already satisfied: markdown>=2.6.8 in c:\\users\\940266\\anaconda3\\lib\\site-packages (from tensorboard<2.9,>=2.8->tensorflow>=2.0.0->talos) (3.3.4)\n",
      "Requirement already satisfied: pickleshare in c:\\users\\940266\\anaconda3\\lib\\site-packages (from IPython->astetik->talos) (0.7.5)\n",
      "Requirement already satisfied: pygments in c:\\users\\940266\\anaconda3\\lib\\site-packages (from IPython->astetik->talos) (2.8.1)\n",
      "Requirement already satisfied: traitlets>=4.2 in c:\\users\\940266\\anaconda3\\lib\\site-packages (from IPython->astetik->talos) (5.0.5)\n",
      "Requirement already satisfied: backcall in c:\\users\\940266\\anaconda3\\lib\\site-packages (from IPython->astetik->talos) (0.2.0)\n",
      "Requirement already satisfied: jedi>=0.16 in c:\\users\\940266\\anaconda3\\lib\\site-packages (from IPython->astetik->talos) (0.17.2)\n",
      "Requirement already satisfied: decorator in c:\\users\\940266\\anaconda3\\lib\\site-packages (from IPython->astetik->talos) (5.0.6)\n",
      "Requirement already satisfied: prompt-toolkit!=3.0.0,!=3.0.1,<3.1.0,>=2.0.0 in c:\\users\\940266\\anaconda3\\lib\\site-packages (from IPython->astetik->talos) (3.0.17)\n",
      "Requirement already satisfied: colorama in c:\\users\\940266\\anaconda3\\lib\\site-packages (from IPython->astetik->talos) (0.4.4)\n",
      "Requirement already satisfied: cycler>=0.10 in c:\\users\\940266\\anaconda3\\lib\\site-packages (from matplotlib->kerasplotlib->talos) (0.10.0)\n",
      "Requirement already satisfied: kiwisolver>=1.0.1 in c:\\users\\940266\\anaconda3\\lib\\site-packages (from matplotlib->kerasplotlib->talos) (1.3.1)\n",
      "Requirement already satisfied: pillow>=6.2.0 in c:\\users\\940266\\anaconda3\\lib\\site-packages (from matplotlib->kerasplotlib->talos) (8.2.0)\n",
      "Requirement already satisfied: pyparsing!=2.0.4,!=2.1.2,!=2.1.6,>=2.0.3 in c:\\users\\940266\\anaconda3\\lib\\site-packages (from matplotlib->kerasplotlib->talos) (2.4.7)\n",
      "Requirement already satisfied: threadpoolctl>=2.0.0 in c:\\users\\940266\\anaconda3\\lib\\site-packages (from scikit-learn->sklearn->talos) (2.1.0)\n",
      "Requirement already satisfied: joblib>=0.11 in c:\\users\\940266\\anaconda3\\lib\\site-packages (from scikit-learn->sklearn->talos) (1.0.1)\n",
      "Requirement already satisfied: cachetools<5.0,>=2.0.0 in c:\\users\\940266\\anaconda3\\lib\\site-packages (from google-auth<3,>=1.6.3->tensorboard<2.9,>=2.8->tensorflow>=2.0.0->talos) (4.2.2)\n",
      "Requirement already satisfied: rsa<5,>=3.1.4 in c:\\users\\940266\\anaconda3\\lib\\site-packages (from google-auth<3,>=1.6.3->tensorboard<2.9,>=2.8->tensorflow>=2.0.0->talos) (4.7.2)\n",
      "Requirement already satisfied: pyasn1-modules>=0.2.1 in c:\\users\\940266\\anaconda3\\lib\\site-packages (from google-auth<3,>=1.6.3->tensorboard<2.9,>=2.8->tensorflow>=2.0.0->talos) (0.2.8)\n",
      "Requirement already satisfied: requests-oauthlib>=0.7.0 in c:\\users\\940266\\anaconda3\\lib\\site-packages (from google-auth-oauthlib<0.5,>=0.4.1->tensorboard<2.9,>=2.8->tensorflow>=2.0.0->talos) (1.3.0)\n",
      "Requirement already satisfied: parso<0.8.0,>=0.7.0 in c:\\users\\940266\\anaconda3\\lib\\site-packages (from jedi>=0.16->IPython->astetik->talos) (0.7.0)\n",
      "Requirement already satisfied: wcwidth in c:\\users\\940266\\anaconda3\\lib\\site-packages (from prompt-toolkit!=3.0.0,!=3.0.1,<3.1.0,>=2.0.0->IPython->astetik->talos) (0.2.5)\n",
      "Requirement already satisfied: ipython-genutils in c:\\users\\940266\\anaconda3\\lib\\site-packages (from traitlets>=4.2->IPython->astetik->talos) (0.2.0)\n",
      "Requirement already satisfied: pyasn1<0.5.0,>=0.4.6 in c:\\users\\940266\\anaconda3\\lib\\site-packages (from pyasn1-modules>=0.2.1->google-auth<3,>=1.6.3->tensorboard<2.9,>=2.8->tensorflow>=2.0.0->talos) (0.4.8)\n",
      "Requirement already satisfied: oauthlib>=3.0.0 in c:\\users\\940266\\anaconda3\\lib\\site-packages (from requests-oauthlib>=0.7.0->google-auth-oauthlib<0.5,>=0.4.1->tensorboard<2.9,>=2.8->tensorflow>=2.0.0->talos) (3.1.1)\n"
     ]
    }
   ],
   "source": [
    "!pip install talos"
   ]
  },
  {
   "cell_type": "code",
   "execution_count": 4,
   "id": "9a51532d-eeea-4a0f-978c-12acc0aa3c50",
   "metadata": {
    "id": "9a51532d-eeea-4a0f-978c-12acc0aa3c50"
   },
   "outputs": [],
   "source": [
    "import pandas as pd\n",
    "import numpy as np\n",
    "\n",
    "import matplotlib.pyplot as plt\n",
    "import seaborn as sns\n",
    "\n",
    "from sklearn.model_selection import train_test_split\n",
    "\n",
    "from sklearn import metrics\n",
    "from sklearn.metrics import confusion_matrix \n",
    "from sklearn.metrics import accuracy_score \n",
    "from sklearn.model_selection import train_test_split\n",
    "from imblearn.over_sampling import SMOTE\n",
    "import talos as ta\n",
    "\n",
    "import tensorflow as tf\n",
    "import tensorflow.keras as keras\n",
    "\n",
    "\n",
    "# pipeline\n",
    "from imblearn.pipeline import Pipeline\n",
    "from sklearn.compose import ColumnTransformer\n",
    "from sklearn.impute import SimpleImputer\n",
    "from sklearn.preprocessing import OneHotEncoder, StandardScaler, MinMaxScaler"
   ]
  },
  {
   "cell_type": "code",
   "execution_count": 5,
   "id": "a2d5ce0e-a952-450e-a6e0-93ef693ca3d8",
   "metadata": {
    "id": "a2d5ce0e-a952-450e-a6e0-93ef693ca3d8"
   },
   "outputs": [],
   "source": [
    "data = pd.read_csv('Telco Kaggle 2.csv',delimiter=';',engine=\"python\")"
   ]
  },
  {
   "cell_type": "code",
   "execution_count": 6,
   "id": "778691c5-5a96-4e73-9f79-963db038d64d",
   "metadata": {
    "colab": {
     "base_uri": "https://localhost:8080/",
     "height": 322
    },
    "id": "778691c5-5a96-4e73-9f79-963db038d64d",
    "outputId": "5f9494d7-b789-41b9-f184-b95d16cd2bcf"
   },
   "outputs": [
    {
     "data": {
      "text/html": [
       "<div>\n",
       "<style scoped>\n",
       "    .dataframe tbody tr th:only-of-type {\n",
       "        vertical-align: middle;\n",
       "    }\n",
       "\n",
       "    .dataframe tbody tr th {\n",
       "        vertical-align: top;\n",
       "    }\n",
       "\n",
       "    .dataframe thead th {\n",
       "        text-align: right;\n",
       "    }\n",
       "</style>\n",
       "<table border=\"1\" class=\"dataframe\">\n",
       "  <thead>\n",
       "    <tr style=\"text-align: right;\">\n",
       "      <th></th>\n",
       "      <th>ID</th>\n",
       "      <th>Type</th>\n",
       "      <th>InitialPackage</th>\n",
       "      <th>Billing</th>\n",
       "      <th>Area</th>\n",
       "      <th>OfferedPackage</th>\n",
       "      <th>AdditionalService</th>\n",
       "      <th>AdditionalBilling</th>\n",
       "      <th>OfferingTime</th>\n",
       "      <th>Use Inet</th>\n",
       "      <th>Use TV</th>\n",
       "      <th>LoS</th>\n",
       "      <th>ResultOffering</th>\n",
       "    </tr>\n",
       "  </thead>\n",
       "  <tbody>\n",
       "    <tr>\n",
       "      <th>0</th>\n",
       "      <td>29482</td>\n",
       "      <td>Triple</td>\n",
       "      <td>10M</td>\n",
       "      <td>17.5</td>\n",
       "      <td>RHODE ISLAND</td>\n",
       "      <td>20M Basic</td>\n",
       "      <td>FOX</td>\n",
       "      <td>1.5</td>\n",
       "      <td>Afternoon</td>\n",
       "      <td>261159.0</td>\n",
       "      <td>250861</td>\n",
       "      <td>35.0</td>\n",
       "      <td>AGREE</td>\n",
       "    </tr>\n",
       "    <tr>\n",
       "      <th>1</th>\n",
       "      <td>223036</td>\n",
       "      <td>Dual</td>\n",
       "      <td>10M</td>\n",
       "      <td>17.5</td>\n",
       "      <td>DELAWARE</td>\n",
       "      <td>20M Basic</td>\n",
       "      <td>NO</td>\n",
       "      <td>1.0</td>\n",
       "      <td>Afternoon</td>\n",
       "      <td>13682.0</td>\n",
       "      <td>0</td>\n",
       "      <td>30.0</td>\n",
       "      <td>AGREE</td>\n",
       "    </tr>\n",
       "    <tr>\n",
       "      <th>2</th>\n",
       "      <td>223125</td>\n",
       "      <td>Dual</td>\n",
       "      <td>10M</td>\n",
       "      <td>17.5</td>\n",
       "      <td>WASHINGTON</td>\n",
       "      <td>20M Basic</td>\n",
       "      <td>NO</td>\n",
       "      <td>1.0</td>\n",
       "      <td>Afternoon</td>\n",
       "      <td>93922.0</td>\n",
       "      <td>0</td>\n",
       "      <td>113.0</td>\n",
       "      <td>AGREE</td>\n",
       "    </tr>\n",
       "    <tr>\n",
       "      <th>3</th>\n",
       "      <td>223142</td>\n",
       "      <td>Dual</td>\n",
       "      <td>10M</td>\n",
       "      <td>17.5</td>\n",
       "      <td>RHODE ISLAND</td>\n",
       "      <td>20M Basic</td>\n",
       "      <td>NO</td>\n",
       "      <td>1.0</td>\n",
       "      <td>Morning</td>\n",
       "      <td>260580.0</td>\n",
       "      <td>0</td>\n",
       "      <td>100.0</td>\n",
       "      <td>AGREE</td>\n",
       "    </tr>\n",
       "    <tr>\n",
       "      <th>4</th>\n",
       "      <td>223143</td>\n",
       "      <td>Dual</td>\n",
       "      <td>10M</td>\n",
       "      <td>17.5</td>\n",
       "      <td>MINNESOTA</td>\n",
       "      <td>20M Basic</td>\n",
       "      <td>NO</td>\n",
       "      <td>1.0</td>\n",
       "      <td>Afternoon</td>\n",
       "      <td>233119.0</td>\n",
       "      <td>97932</td>\n",
       "      <td>43.0</td>\n",
       "      <td>AGREE</td>\n",
       "    </tr>\n",
       "  </tbody>\n",
       "</table>\n",
       "</div>"
      ],
      "text/plain": [
       "       ID    Type InitialPackage  Billing          Area OfferedPackage  \\\n",
       "0   29482  Triple            10M     17.5  RHODE ISLAND      20M Basic   \n",
       "1  223036    Dual            10M     17.5      DELAWARE      20M Basic   \n",
       "2  223125    Dual            10M     17.5    WASHINGTON      20M Basic   \n",
       "3  223142    Dual            10M     17.5  RHODE ISLAND      20M Basic   \n",
       "4  223143    Dual            10M     17.5     MINNESOTA      20M Basic   \n",
       "\n",
       "  AdditionalService  AdditionalBilling OfferingTime  Use Inet  Use TV    LoS  \\\n",
       "0               FOX                1.5    Afternoon  261159.0  250861   35.0   \n",
       "1                NO                1.0    Afternoon   13682.0       0   30.0   \n",
       "2                NO                1.0    Afternoon   93922.0       0  113.0   \n",
       "3                NO                1.0      Morning  260580.0       0  100.0   \n",
       "4                NO                1.0    Afternoon  233119.0   97932   43.0   \n",
       "\n",
       "  ResultOffering  \n",
       "0          AGREE  \n",
       "1          AGREE  \n",
       "2          AGREE  \n",
       "3          AGREE  \n",
       "4          AGREE  "
      ]
     },
     "execution_count": 6,
     "metadata": {},
     "output_type": "execute_result"
    }
   ],
   "source": [
    "data.head()"
   ]
  },
  {
   "cell_type": "code",
   "execution_count": 7,
   "id": "d948caf3-22de-436a-af0c-6db8dd2f19ae",
   "metadata": {
    "colab": {
     "base_uri": "https://localhost:8080/"
    },
    "id": "d948caf3-22de-436a-af0c-6db8dd2f19ae",
    "outputId": "9c5a6e45-a2cf-4ab6-ede5-6b5e837513a9"
   },
   "outputs": [
    {
     "data": {
      "text/plain": [
       "(4733, 13)"
      ]
     },
     "execution_count": 7,
     "metadata": {},
     "output_type": "execute_result"
    }
   ],
   "source": [
    "data = data[~data.duplicated()] # remove duplicates\n",
    "data.shape"
   ]
  },
  {
   "cell_type": "code",
   "execution_count": 8,
   "id": "d1b69f3a-2291-4540-969c-689408e910c7",
   "metadata": {
    "colab": {
     "base_uri": "https://localhost:8080/",
     "height": 210
    },
    "id": "d1b69f3a-2291-4540-969c-689408e910c7",
    "outputId": "af13d3b2-6f6c-4901-d903-42f8ca1537b9"
   },
   "outputs": [
    {
     "data": {
      "text/html": [
       "<div>\n",
       "<style scoped>\n",
       "    .dataframe tbody tr th:only-of-type {\n",
       "        vertical-align: middle;\n",
       "    }\n",
       "\n",
       "    .dataframe tbody tr th {\n",
       "        vertical-align: top;\n",
       "    }\n",
       "\n",
       "    .dataframe thead th {\n",
       "        text-align: right;\n",
       "    }\n",
       "</style>\n",
       "<table border=\"1\" class=\"dataframe\">\n",
       "  <thead>\n",
       "    <tr style=\"text-align: right;\">\n",
       "      <th></th>\n",
       "      <th>Type</th>\n",
       "      <th>InitialPackage</th>\n",
       "      <th>Billing</th>\n",
       "      <th>Area</th>\n",
       "      <th>OfferedPackage</th>\n",
       "      <th>AdditionalService</th>\n",
       "      <th>AdditionalBilling</th>\n",
       "      <th>OfferingTime</th>\n",
       "      <th>Use Inet</th>\n",
       "      <th>Use TV</th>\n",
       "      <th>LoS</th>\n",
       "      <th>ResultOffering</th>\n",
       "    </tr>\n",
       "  </thead>\n",
       "  <tbody>\n",
       "    <tr>\n",
       "      <th>0</th>\n",
       "      <td>Triple</td>\n",
       "      <td>10M</td>\n",
       "      <td>17.5</td>\n",
       "      <td>RHODE ISLAND</td>\n",
       "      <td>20M Basic</td>\n",
       "      <td>FOX</td>\n",
       "      <td>1.5</td>\n",
       "      <td>Afternoon</td>\n",
       "      <td>261159.0</td>\n",
       "      <td>250861</td>\n",
       "      <td>35.0</td>\n",
       "      <td>AGREE</td>\n",
       "    </tr>\n",
       "    <tr>\n",
       "      <th>1</th>\n",
       "      <td>Dual</td>\n",
       "      <td>10M</td>\n",
       "      <td>17.5</td>\n",
       "      <td>DELAWARE</td>\n",
       "      <td>20M Basic</td>\n",
       "      <td>NO</td>\n",
       "      <td>1.0</td>\n",
       "      <td>Afternoon</td>\n",
       "      <td>13682.0</td>\n",
       "      <td>0</td>\n",
       "      <td>30.0</td>\n",
       "      <td>AGREE</td>\n",
       "    </tr>\n",
       "  </tbody>\n",
       "</table>\n",
       "</div>"
      ],
      "text/plain": [
       "     Type InitialPackage  Billing          Area OfferedPackage  \\\n",
       "0  Triple            10M     17.5  RHODE ISLAND      20M Basic   \n",
       "1    Dual            10M     17.5      DELAWARE      20M Basic   \n",
       "\n",
       "  AdditionalService  AdditionalBilling OfferingTime  Use Inet  Use TV   LoS  \\\n",
       "0               FOX                1.5    Afternoon  261159.0  250861  35.0   \n",
       "1                NO                1.0    Afternoon   13682.0       0  30.0   \n",
       "\n",
       "  ResultOffering  \n",
       "0          AGREE  \n",
       "1          AGREE  "
      ]
     },
     "execution_count": 8,
     "metadata": {},
     "output_type": "execute_result"
    }
   ],
   "source": [
    "#remove id\n",
    "data.drop(labels=['ID'], axis=1, inplace=True)\n",
    "data.head(2)"
   ]
  },
  {
   "cell_type": "code",
   "execution_count": 9,
   "id": "1d0ec21f-57fd-4fec-9648-db9d4745a54a",
   "metadata": {
    "colab": {
     "base_uri": "https://localhost:8080/"
    },
    "id": "1d0ec21f-57fd-4fec-9648-db9d4745a54a",
    "outputId": "c599d295-3347-4a67-c8d1-01a2b07e7874"
   },
   "outputs": [
    {
     "data": {
      "text/plain": [
       "Type                  object\n",
       "InitialPackage        object\n",
       "Billing              float64\n",
       "Area                  object\n",
       "OfferedPackage        object\n",
       "AdditionalService     object\n",
       "AdditionalBilling    float64\n",
       "OfferingTime          object\n",
       "Use Inet             float64\n",
       "Use TV                 int64\n",
       "LoS                  float64\n",
       "ResultOffering        object\n",
       "dtype: object"
      ]
     },
     "execution_count": 9,
     "metadata": {},
     "output_type": "execute_result"
    }
   ],
   "source": [
    "data.dtypes"
   ]
  },
  {
   "cell_type": "markdown",
   "id": "33f08e6e-e187-46fa-a691-3390230f71aa",
   "metadata": {
    "id": "33f08e6e-e187-46fa-a691-3390230f71aa"
   },
   "source": [
    "# Exploratory Data Analysis"
   ]
  },
  {
   "cell_type": "markdown",
   "id": "62107ec6-ff0e-4882-a411-c479d3ab5f93",
   "metadata": {
    "id": "62107ec6-ff0e-4882-a411-c479d3ab5f93"
   },
   "source": [
    "### Data Visulitation"
   ]
  },
  {
   "cell_type": "code",
   "execution_count": 10,
   "id": "e3aea5f9-9cfa-479e-a4b5-1b5cfb19a210",
   "metadata": {
    "colab": {
     "base_uri": "https://localhost:8080/",
     "height": 458
    },
    "id": "e3aea5f9-9cfa-479e-a4b5-1b5cfb19a210",
    "outputId": "0b25a7a4-905a-4e87-c24a-ec3cf2a51587"
   },
   "outputs": [
    {
     "data": {
      "text/html": [
       "<div>\n",
       "<style scoped>\n",
       "    .dataframe tbody tr th:only-of-type {\n",
       "        vertical-align: middle;\n",
       "    }\n",
       "\n",
       "    .dataframe tbody tr th {\n",
       "        vertical-align: top;\n",
       "    }\n",
       "\n",
       "    .dataframe thead th {\n",
       "        text-align: right;\n",
       "    }\n",
       "</style>\n",
       "<table border=\"1\" class=\"dataframe\">\n",
       "  <thead>\n",
       "    <tr style=\"text-align: right;\">\n",
       "      <th></th>\n",
       "      <th>Type</th>\n",
       "      <th>InitialPackage</th>\n",
       "      <th>Billing</th>\n",
       "      <th>Area</th>\n",
       "      <th>OfferedPackage</th>\n",
       "      <th>AdditionalService</th>\n",
       "      <th>AdditionalBilling</th>\n",
       "      <th>OfferingTime</th>\n",
       "      <th>Use Inet</th>\n",
       "      <th>Use TV</th>\n",
       "      <th>LoS</th>\n",
       "      <th>ResultOffering</th>\n",
       "    </tr>\n",
       "  </thead>\n",
       "  <tbody>\n",
       "    <tr>\n",
       "      <th>count</th>\n",
       "      <td>4733</td>\n",
       "      <td>4733</td>\n",
       "      <td>4733.000000</td>\n",
       "      <td>4733</td>\n",
       "      <td>4733</td>\n",
       "      <td>4733</td>\n",
       "      <td>4733.000000</td>\n",
       "      <td>4733</td>\n",
       "      <td>3.447000e+03</td>\n",
       "      <td>4.733000e+03</td>\n",
       "      <td>4441.000000</td>\n",
       "      <td>4733</td>\n",
       "    </tr>\n",
       "    <tr>\n",
       "      <th>unique</th>\n",
       "      <td>2</td>\n",
       "      <td>5</td>\n",
       "      <td>NaN</td>\n",
       "      <td>8</td>\n",
       "      <td>16</td>\n",
       "      <td>5</td>\n",
       "      <td>NaN</td>\n",
       "      <td>3</td>\n",
       "      <td>NaN</td>\n",
       "      <td>NaN</td>\n",
       "      <td>NaN</td>\n",
       "      <td>2</td>\n",
       "    </tr>\n",
       "    <tr>\n",
       "      <th>top</th>\n",
       "      <td>Dual</td>\n",
       "      <td>10M</td>\n",
       "      <td>NaN</td>\n",
       "      <td>WASHINGTON</td>\n",
       "      <td>30M Prime</td>\n",
       "      <td>NO</td>\n",
       "      <td>NaN</td>\n",
       "      <td>Afternoon</td>\n",
       "      <td>NaN</td>\n",
       "      <td>NaN</td>\n",
       "      <td>NaN</td>\n",
       "      <td>AGREE</td>\n",
       "    </tr>\n",
       "    <tr>\n",
       "      <th>freq</th>\n",
       "      <td>4288</td>\n",
       "      <td>2481</td>\n",
       "      <td>NaN</td>\n",
       "      <td>1185</td>\n",
       "      <td>1358</td>\n",
       "      <td>3571</td>\n",
       "      <td>NaN</td>\n",
       "      <td>2430</td>\n",
       "      <td>NaN</td>\n",
       "      <td>NaN</td>\n",
       "      <td>NaN</td>\n",
       "      <td>3885</td>\n",
       "    </tr>\n",
       "    <tr>\n",
       "      <th>mean</th>\n",
       "      <td>NaN</td>\n",
       "      <td>NaN</td>\n",
       "      <td>18.061794</td>\n",
       "      <td>NaN</td>\n",
       "      <td>NaN</td>\n",
       "      <td>NaN</td>\n",
       "      <td>2.359370</td>\n",
       "      <td>NaN</td>\n",
       "      <td>3.303304e+05</td>\n",
       "      <td>6.254299e+04</td>\n",
       "      <td>36.398559</td>\n",
       "      <td>NaN</td>\n",
       "    </tr>\n",
       "    <tr>\n",
       "      <th>std</th>\n",
       "      <td>NaN</td>\n",
       "      <td>NaN</td>\n",
       "      <td>3.357755</td>\n",
       "      <td>NaN</td>\n",
       "      <td>NaN</td>\n",
       "      <td>NaN</td>\n",
       "      <td>1.534931</td>\n",
       "      <td>NaN</td>\n",
       "      <td>2.378159e+05</td>\n",
       "      <td>1.255196e+05</td>\n",
       "      <td>26.698334</td>\n",
       "      <td>NaN</td>\n",
       "    </tr>\n",
       "    <tr>\n",
       "      <th>min</th>\n",
       "      <td>NaN</td>\n",
       "      <td>NaN</td>\n",
       "      <td>14.580000</td>\n",
       "      <td>NaN</td>\n",
       "      <td>NaN</td>\n",
       "      <td>NaN</td>\n",
       "      <td>0.200000</td>\n",
       "      <td>NaN</td>\n",
       "      <td>2.300000e+01</td>\n",
       "      <td>0.000000e+00</td>\n",
       "      <td>11.000000</td>\n",
       "      <td>NaN</td>\n",
       "    </tr>\n",
       "    <tr>\n",
       "      <th>25%</th>\n",
       "      <td>NaN</td>\n",
       "      <td>NaN</td>\n",
       "      <td>15.000000</td>\n",
       "      <td>NaN</td>\n",
       "      <td>NaN</td>\n",
       "      <td>NaN</td>\n",
       "      <td>1.300000</td>\n",
       "      <td>NaN</td>\n",
       "      <td>1.629560e+05</td>\n",
       "      <td>0.000000e+00</td>\n",
       "      <td>21.000000</td>\n",
       "      <td>NaN</td>\n",
       "    </tr>\n",
       "    <tr>\n",
       "      <th>50%</th>\n",
       "      <td>NaN</td>\n",
       "      <td>NaN</td>\n",
       "      <td>17.500000</td>\n",
       "      <td>NaN</td>\n",
       "      <td>NaN</td>\n",
       "      <td>NaN</td>\n",
       "      <td>2.000000</td>\n",
       "      <td>NaN</td>\n",
       "      <td>2.816200e+05</td>\n",
       "      <td>0.000000e+00</td>\n",
       "      <td>24.000000</td>\n",
       "      <td>NaN</td>\n",
       "    </tr>\n",
       "    <tr>\n",
       "      <th>75%</th>\n",
       "      <td>NaN</td>\n",
       "      <td>NaN</td>\n",
       "      <td>19.170000</td>\n",
       "      <td>NaN</td>\n",
       "      <td>NaN</td>\n",
       "      <td>NaN</td>\n",
       "      <td>3.000000</td>\n",
       "      <td>NaN</td>\n",
       "      <td>4.429065e+05</td>\n",
       "      <td>0.000000e+00</td>\n",
       "      <td>43.000000</td>\n",
       "      <td>NaN</td>\n",
       "    </tr>\n",
       "    <tr>\n",
       "      <th>max</th>\n",
       "      <td>NaN</td>\n",
       "      <td>NaN</td>\n",
       "      <td>32.920000</td>\n",
       "      <td>NaN</td>\n",
       "      <td>NaN</td>\n",
       "      <td>NaN</td>\n",
       "      <td>6.000000</td>\n",
       "      <td>NaN</td>\n",
       "      <td>1.910586e+06</td>\n",
       "      <td>2.379923e+06</td>\n",
       "      <td>179.000000</td>\n",
       "      <td>NaN</td>\n",
       "    </tr>\n",
       "  </tbody>\n",
       "</table>\n",
       "</div>"
      ],
      "text/plain": [
       "        Type InitialPackage      Billing        Area OfferedPackage  \\\n",
       "count   4733           4733  4733.000000        4733           4733   \n",
       "unique     2              5          NaN           8             16   \n",
       "top     Dual            10M          NaN  WASHINGTON      30M Prime   \n",
       "freq    4288           2481          NaN        1185           1358   \n",
       "mean     NaN            NaN    18.061794         NaN            NaN   \n",
       "std      NaN            NaN     3.357755         NaN            NaN   \n",
       "min      NaN            NaN    14.580000         NaN            NaN   \n",
       "25%      NaN            NaN    15.000000         NaN            NaN   \n",
       "50%      NaN            NaN    17.500000         NaN            NaN   \n",
       "75%      NaN            NaN    19.170000         NaN            NaN   \n",
       "max      NaN            NaN    32.920000         NaN            NaN   \n",
       "\n",
       "       AdditionalService  AdditionalBilling OfferingTime      Use Inet  \\\n",
       "count               4733        4733.000000         4733  3.447000e+03   \n",
       "unique                 5                NaN            3           NaN   \n",
       "top                   NO                NaN    Afternoon           NaN   \n",
       "freq                3571                NaN         2430           NaN   \n",
       "mean                 NaN           2.359370          NaN  3.303304e+05   \n",
       "std                  NaN           1.534931          NaN  2.378159e+05   \n",
       "min                  NaN           0.200000          NaN  2.300000e+01   \n",
       "25%                  NaN           1.300000          NaN  1.629560e+05   \n",
       "50%                  NaN           2.000000          NaN  2.816200e+05   \n",
       "75%                  NaN           3.000000          NaN  4.429065e+05   \n",
       "max                  NaN           6.000000          NaN  1.910586e+06   \n",
       "\n",
       "              Use TV          LoS ResultOffering  \n",
       "count   4.733000e+03  4441.000000           4733  \n",
       "unique           NaN          NaN              2  \n",
       "top              NaN          NaN          AGREE  \n",
       "freq             NaN          NaN           3885  \n",
       "mean    6.254299e+04    36.398559            NaN  \n",
       "std     1.255196e+05    26.698334            NaN  \n",
       "min     0.000000e+00    11.000000            NaN  \n",
       "25%     0.000000e+00    21.000000            NaN  \n",
       "50%     0.000000e+00    24.000000            NaN  \n",
       "75%     0.000000e+00    43.000000            NaN  \n",
       "max     2.379923e+06   179.000000            NaN  "
      ]
     },
     "execution_count": 10,
     "metadata": {},
     "output_type": "execute_result"
    }
   ],
   "source": [
    "data.describe(include='all')"
   ]
  },
  {
   "cell_type": "code",
   "execution_count": 11,
   "id": "21a9e65a-81fa-4d57-afb5-c81d61b42e4c",
   "metadata": {
    "id": "21a9e65a-81fa-4d57-afb5-c81d61b42e4c"
   },
   "outputs": [],
   "source": [
    "x = data.drop('ResultOffering', axis=1)\n",
    "y = data.ResultOffering"
   ]
  },
  {
   "cell_type": "code",
   "execution_count": 12,
   "id": "05f1d9d2-6331-4b82-972e-b3d511faae7d",
   "metadata": {
    "id": "05f1d9d2-6331-4b82-972e-b3d511faae7d"
   },
   "outputs": [],
   "source": [
    "num_features = ['Billing', 'AdditionalBilling', 'Use Inet', 'Use TV', 'LoS']\n",
    "cat_features = ['Type',\n",
    " 'InitialPackage',\n",
    " 'Area',\n",
    " 'OfferedPackage',\n",
    " 'AdditionalService',\n",
    " 'OfferingTime']"
   ]
  },
  {
   "cell_type": "code",
   "execution_count": 13,
   "id": "0b44f0ee-9ea8-470a-9d3e-9c2b66748fb5",
   "metadata": {
    "colab": {
     "base_uri": "https://localhost:8080/",
     "height": 382
    },
    "id": "0b44f0ee-9ea8-470a-9d3e-9c2b66748fb5",
    "outputId": "ef1502bd-1720-40e3-c433-7aadb5b0adc7"
   },
   "outputs": [
    {
     "data": {
      "text/plain": [
       "AGREE      3885\n",
       "DECLINE     848\n",
       "Name: ResultOffering, dtype: int64"
      ]
     },
     "execution_count": 13,
     "metadata": {},
     "output_type": "execute_result"
    },
    {
     "data": {
      "image/png": "[encoded data removed]",
      "text/plain": [
       "<Figure size 432x288 with 1 Axes>"
      ]
     },
     "metadata": {
      "needs_background": "light"
     },
     "output_type": "display_data"
    }
   ],
   "source": [
    "\n",
    "pd.value_counts(data['ResultOffering']).plot.bar()\n",
    "plt.title('Result Offering class histogram')\n",
    "plt.xlabel('ResultOffering')\n",
    "plt.ylabel('Frequency')\n",
    "data['ResultOffering'].value_counts()\n",
    "\n",
    "# Clearly data-set has imbalanced class label for Result Offering !!"
   ]
  },
  {
   "cell_type": "code",
   "execution_count": 14,
   "id": "58cece56-3d7a-4e73-a15d-3e456d0db6c4",
   "metadata": {
    "colab": {
     "base_uri": "https://localhost:8080/",
     "height": 1000
    },
    "id": "58cece56-3d7a-4e73-a15d-3e456d0db6c4",
    "outputId": "703fc00e-6ee1-4668-cee8-ff058ad6b454"
   },
   "outputs": [
    {
     "data": {
      "image/png": "[encoded data removed]",
      "text/plain": [
       "<Figure size 2160x2880 with 6 Axes>"
      ]
     },
     "metadata": {},
     "output_type": "display_data"
    }
   ],
   "source": [
    "sns.set(style=\"whitegrid\", color_codes=True)\n",
    "\n",
    "fig, axes = plt.subplots(nrows = 3,ncols = 2,figsize = (30,40))\n",
    "sns.countplot(x=\"Type\",data=data,hue=data['ResultOffering'], ax=axes[0][0])\n",
    "sns.countplot(x=\"InitialPackage\",data=data,hue=data['ResultOffering'], ax=axes[0][1])\n",
    "sns.countplot(x=\"Area\",data=data,hue=data['ResultOffering'], ax=axes[1][0])\n",
    "ax=sns.countplot(x=\"OfferedPackage\",data=data,hue=data['ResultOffering'], ax=axes[2][1])\n",
    "ax.set_xticklabels(ax.get_xticklabels(),rotation=90)\n",
    "sns.countplot(x=\"AdditionalService\",data=data,hue=data['ResultOffering'], ax=axes[2][0])\n",
    "sns.countplot(x=\"OfferingTime\",data=data,hue=data['ResultOffering'], ax=axes[1][1])\n",
    "\n",
    "\n",
    "\n",
    "\n",
    "plt.show(fig)"
   ]
  },
  {
   "cell_type": "code",
   "execution_count": 15,
   "id": "a1487099-37f3-41b7-a904-eb18ba02b658",
   "metadata": {
    "colab": {
     "base_uri": "https://localhost:8080/",
     "height": 406
    },
    "id": "a1487099-37f3-41b7-a904-eb18ba02b658",
    "outputId": "a8b16ef7-c91c-4dd6-b8ae-610646df47e0"
   },
   "outputs": [
    {
     "data": {
      "image/png": "[encoded data removed]",
      "text/plain": [
       "<Figure size 1080x432 with 5 Axes>"
      ]
     },
     "metadata": {},
     "output_type": "display_data"
    }
   ],
   "source": [
    "\n",
    "fig, ax = plt.subplots(1, 5, figsize=(15, 6))\n",
    "#gunakan code berikut ini untuk memplot 2 lapisan untuk membedakan mana yang Churn (Orange) atau Tidak (Blue) \n",
    "data[data['ResultOffering'] == 'AGREE'][num_features].hist(bins=20, color='blue', alpha=0.5, ax=ax)\n",
    "data[data['ResultOffering'] == 'DECLINE'][num_features].hist(bins=20, color='orange', alpha=0.5, ax=ax)\n",
    "plt.show()"
   ]
  },
  {
   "cell_type": "markdown",
   "id": "0c0eee92-7ced-42b5-ac18-8800ac50185c",
   "metadata": {
    "id": "0c0eee92-7ced-42b5-ac18-8800ac50185c"
   },
   "source": [
    "### Split Data"
   ]
  },
  {
   "cell_type": "code",
   "execution_count": 16,
   "id": "2b1cbb98-48b3-4459-8293-a2cae3d0de48",
   "metadata": {
    "id": "2b1cbb98-48b3-4459-8293-a2cae3d0de48"
   },
   "outputs": [],
   "source": [
    "\n",
    "data_splits = train_test_split(x, y, test_size=0.25, random_state=0,\n",
    "                               shuffle=True, stratify=y)\n",
    "x_train, x_test, y_train, y_test = data_splits\n",
    "\n",
    "\n"
   ]
  },
  {
   "cell_type": "code",
   "execution_count": 25,
   "id": "65a6242d-e555-4e75-b37e-f4c02e680d25",
   "metadata": {},
   "outputs": [],
   "source": [
    "from imblearn.over_sampling import SMOTENC\n",
    "\n",
    "smote = SMOTENC(categorical_features=(x_train.dtypes == \"category\").values,\n",
    "                random_state=42)\n"
   ]
  },
  {
   "cell_type": "code",
   "execution_count": 26,
   "id": "f7252ed5-07f7-40ad-911d-ef09eddb1831",
   "metadata": {},
   "outputs": [
    {
     "ename": "ValueError",
     "evalue": "Input contains NaN",
     "output_type": "error",
     "traceback": [
      "\u001b[1;31m---------------------------------------------------------------------------\u001b[0m",
      "\u001b[1;31mValueError\u001b[0m                                Traceback (most recent call last)",
      "\u001b[1;32m<ipython-input-26-41b8891fb8d5>\u001b[0m in \u001b[0;36m<module>\u001b[1;34m\u001b[0m\n\u001b[1;32m----> 1\u001b[1;33m \u001b[0mx_train\u001b[0m\u001b[1;33m,\u001b[0m \u001b[0my_train\u001b[0m \u001b[1;33m=\u001b[0m \u001b[0msmote\u001b[0m\u001b[1;33m.\u001b[0m\u001b[0mfit_resample\u001b[0m\u001b[1;33m(\u001b[0m\u001b[0mx_train\u001b[0m\u001b[1;33m,\u001b[0m \u001b[0my_train\u001b[0m\u001b[1;33m)\u001b[0m\u001b[1;33m\u001b[0m\u001b[1;33m\u001b[0m\u001b[0m\n\u001b[0m\u001b[0;32m      2\u001b[0m \u001b[1;33m\u001b[0m\u001b[0m\n",
      "\u001b[1;32m~\\anaconda3\\lib\\site-packages\\imblearn\\base.py\u001b[0m in \u001b[0;36mfit_resample\u001b[1;34m(self, X, y)\u001b[0m\n\u001b[0;32m     75\u001b[0m         \u001b[0mcheck_classification_targets\u001b[0m\u001b[1;33m(\u001b[0m\u001b[0my\u001b[0m\u001b[1;33m)\u001b[0m\u001b[1;33m\u001b[0m\u001b[1;33m\u001b[0m\u001b[0m\n\u001b[0;32m     76\u001b[0m         \u001b[0marrays_transformer\u001b[0m \u001b[1;33m=\u001b[0m \u001b[0mArraysTransformer\u001b[0m\u001b[1;33m(\u001b[0m\u001b[0mX\u001b[0m\u001b[1;33m,\u001b[0m \u001b[0my\u001b[0m\u001b[1;33m)\u001b[0m\u001b[1;33m\u001b[0m\u001b[1;33m\u001b[0m\u001b[0m\n\u001b[1;32m---> 77\u001b[1;33m         \u001b[0mX\u001b[0m\u001b[1;33m,\u001b[0m \u001b[0my\u001b[0m\u001b[1;33m,\u001b[0m \u001b[0mbinarize_y\u001b[0m \u001b[1;33m=\u001b[0m \u001b[0mself\u001b[0m\u001b[1;33m.\u001b[0m\u001b[0m_check_X_y\u001b[0m\u001b[1;33m(\u001b[0m\u001b[0mX\u001b[0m\u001b[1;33m,\u001b[0m \u001b[0my\u001b[0m\u001b[1;33m)\u001b[0m\u001b[1;33m\u001b[0m\u001b[1;33m\u001b[0m\u001b[0m\n\u001b[0m\u001b[0;32m     78\u001b[0m \u001b[1;33m\u001b[0m\u001b[0m\n\u001b[0;32m     79\u001b[0m         self.sampling_strategy_ = check_sampling_strategy(\n",
      "\u001b[1;32m~\\anaconda3\\lib\\site-packages\\imblearn\\over_sampling\\_smote\\base.py\u001b[0m in \u001b[0;36m_check_X_y\u001b[1;34m(self, X, y)\u001b[0m\n\u001b[0;32m    438\u001b[0m         \"\"\"\n\u001b[0;32m    439\u001b[0m         \u001b[0my\u001b[0m\u001b[1;33m,\u001b[0m \u001b[0mbinarize_y\u001b[0m \u001b[1;33m=\u001b[0m \u001b[0mcheck_target_type\u001b[0m\u001b[1;33m(\u001b[0m\u001b[0my\u001b[0m\u001b[1;33m,\u001b[0m \u001b[0mindicate_one_vs_all\u001b[0m\u001b[1;33m=\u001b[0m\u001b[1;32mTrue\u001b[0m\u001b[1;33m)\u001b[0m\u001b[1;33m\u001b[0m\u001b[1;33m\u001b[0m\u001b[0m\n\u001b[1;32m--> 440\u001b[1;33m         X, y = self._validate_data(\n\u001b[0m\u001b[0;32m    441\u001b[0m             \u001b[0mX\u001b[0m\u001b[1;33m,\u001b[0m \u001b[0my\u001b[0m\u001b[1;33m,\u001b[0m \u001b[0mreset\u001b[0m\u001b[1;33m=\u001b[0m\u001b[1;32mTrue\u001b[0m\u001b[1;33m,\u001b[0m \u001b[0mdtype\u001b[0m\u001b[1;33m=\u001b[0m\u001b[1;32mNone\u001b[0m\u001b[1;33m,\u001b[0m \u001b[0maccept_sparse\u001b[0m\u001b[1;33m=\u001b[0m\u001b[1;33m[\u001b[0m\u001b[1;34m\"csr\"\u001b[0m\u001b[1;33m,\u001b[0m \u001b[1;34m\"csc\"\u001b[0m\u001b[1;33m]\u001b[0m\u001b[1;33m\u001b[0m\u001b[1;33m\u001b[0m\u001b[0m\n\u001b[0;32m    442\u001b[0m         )\n",
      "\u001b[1;32m~\\anaconda3\\lib\\site-packages\\sklearn\\base.py\u001b[0m in \u001b[0;36m_validate_data\u001b[1;34m(self, X, y, reset, validate_separately, **check_params)\u001b[0m\n\u001b[0;32m    431\u001b[0m                 \u001b[0my\u001b[0m \u001b[1;33m=\u001b[0m \u001b[0mcheck_array\u001b[0m\u001b[1;33m(\u001b[0m\u001b[0my\u001b[0m\u001b[1;33m,\u001b[0m \u001b[1;33m**\u001b[0m\u001b[0mcheck_y_params\u001b[0m\u001b[1;33m)\u001b[0m\u001b[1;33m\u001b[0m\u001b[1;33m\u001b[0m\u001b[0m\n\u001b[0;32m    432\u001b[0m             \u001b[1;32melse\u001b[0m\u001b[1;33m:\u001b[0m\u001b[1;33m\u001b[0m\u001b[1;33m\u001b[0m\u001b[0m\n\u001b[1;32m--> 433\u001b[1;33m                 \u001b[0mX\u001b[0m\u001b[1;33m,\u001b[0m \u001b[0my\u001b[0m \u001b[1;33m=\u001b[0m \u001b[0mcheck_X_y\u001b[0m\u001b[1;33m(\u001b[0m\u001b[0mX\u001b[0m\u001b[1;33m,\u001b[0m \u001b[0my\u001b[0m\u001b[1;33m,\u001b[0m \u001b[1;33m**\u001b[0m\u001b[0mcheck_params\u001b[0m\u001b[1;33m)\u001b[0m\u001b[1;33m\u001b[0m\u001b[1;33m\u001b[0m\u001b[0m\n\u001b[0m\u001b[0;32m    434\u001b[0m             \u001b[0mout\u001b[0m \u001b[1;33m=\u001b[0m \u001b[0mX\u001b[0m\u001b[1;33m,\u001b[0m \u001b[0my\u001b[0m\u001b[1;33m\u001b[0m\u001b[1;33m\u001b[0m\u001b[0m\n\u001b[0;32m    435\u001b[0m \u001b[1;33m\u001b[0m\u001b[0m\n",
      "\u001b[1;32m~\\anaconda3\\lib\\site-packages\\sklearn\\utils\\validation.py\u001b[0m in \u001b[0;36minner_f\u001b[1;34m(*args, **kwargs)\u001b[0m\n\u001b[0;32m     61\u001b[0m             \u001b[0mextra_args\u001b[0m \u001b[1;33m=\u001b[0m \u001b[0mlen\u001b[0m\u001b[1;33m(\u001b[0m\u001b[0margs\u001b[0m\u001b[1;33m)\u001b[0m \u001b[1;33m-\u001b[0m \u001b[0mlen\u001b[0m\u001b[1;33m(\u001b[0m\u001b[0mall_args\u001b[0m\u001b[1;33m)\u001b[0m\u001b[1;33m\u001b[0m\u001b[1;33m\u001b[0m\u001b[0m\n\u001b[0;32m     62\u001b[0m             \u001b[1;32mif\u001b[0m \u001b[0mextra_args\u001b[0m \u001b[1;33m<=\u001b[0m \u001b[1;36m0\u001b[0m\u001b[1;33m:\u001b[0m\u001b[1;33m\u001b[0m\u001b[1;33m\u001b[0m\u001b[0m\n\u001b[1;32m---> 63\u001b[1;33m                 \u001b[1;32mreturn\u001b[0m \u001b[0mf\u001b[0m\u001b[1;33m(\u001b[0m\u001b[1;33m*\u001b[0m\u001b[0margs\u001b[0m\u001b[1;33m,\u001b[0m \u001b[1;33m**\u001b[0m\u001b[0mkwargs\u001b[0m\u001b[1;33m)\u001b[0m\u001b[1;33m\u001b[0m\u001b[1;33m\u001b[0m\u001b[0m\n\u001b[0m\u001b[0;32m     64\u001b[0m \u001b[1;33m\u001b[0m\u001b[0m\n\u001b[0;32m     65\u001b[0m             \u001b[1;31m# extra_args > 0\u001b[0m\u001b[1;33m\u001b[0m\u001b[1;33m\u001b[0m\u001b[1;33m\u001b[0m\u001b[0m\n",
      "\u001b[1;32m~\\anaconda3\\lib\\site-packages\\sklearn\\utils\\validation.py\u001b[0m in \u001b[0;36mcheck_X_y\u001b[1;34m(X, y, accept_sparse, accept_large_sparse, dtype, order, copy, force_all_finite, ensure_2d, allow_nd, multi_output, ensure_min_samples, ensure_min_features, y_numeric, estimator)\u001b[0m\n\u001b[0;32m    869\u001b[0m         \u001b[1;32mraise\u001b[0m \u001b[0mValueError\u001b[0m\u001b[1;33m(\u001b[0m\u001b[1;34m\"y cannot be None\"\u001b[0m\u001b[1;33m)\u001b[0m\u001b[1;33m\u001b[0m\u001b[1;33m\u001b[0m\u001b[0m\n\u001b[0;32m    870\u001b[0m \u001b[1;33m\u001b[0m\u001b[0m\n\u001b[1;32m--> 871\u001b[1;33m     X = check_array(X, accept_sparse=accept_sparse,\n\u001b[0m\u001b[0;32m    872\u001b[0m                     \u001b[0maccept_large_sparse\u001b[0m\u001b[1;33m=\u001b[0m\u001b[0maccept_large_sparse\u001b[0m\u001b[1;33m,\u001b[0m\u001b[1;33m\u001b[0m\u001b[1;33m\u001b[0m\u001b[0m\n\u001b[0;32m    873\u001b[0m                     \u001b[0mdtype\u001b[0m\u001b[1;33m=\u001b[0m\u001b[0mdtype\u001b[0m\u001b[1;33m,\u001b[0m \u001b[0morder\u001b[0m\u001b[1;33m=\u001b[0m\u001b[0morder\u001b[0m\u001b[1;33m,\u001b[0m \u001b[0mcopy\u001b[0m\u001b[1;33m=\u001b[0m\u001b[0mcopy\u001b[0m\u001b[1;33m,\u001b[0m\u001b[1;33m\u001b[0m\u001b[1;33m\u001b[0m\u001b[0m\n",
      "\u001b[1;32m~\\anaconda3\\lib\\site-packages\\sklearn\\utils\\validation.py\u001b[0m in \u001b[0;36minner_f\u001b[1;34m(*args, **kwargs)\u001b[0m\n\u001b[0;32m     61\u001b[0m             \u001b[0mextra_args\u001b[0m \u001b[1;33m=\u001b[0m \u001b[0mlen\u001b[0m\u001b[1;33m(\u001b[0m\u001b[0margs\u001b[0m\u001b[1;33m)\u001b[0m \u001b[1;33m-\u001b[0m \u001b[0mlen\u001b[0m\u001b[1;33m(\u001b[0m\u001b[0mall_args\u001b[0m\u001b[1;33m)\u001b[0m\u001b[1;33m\u001b[0m\u001b[1;33m\u001b[0m\u001b[0m\n\u001b[0;32m     62\u001b[0m             \u001b[1;32mif\u001b[0m \u001b[0mextra_args\u001b[0m \u001b[1;33m<=\u001b[0m \u001b[1;36m0\u001b[0m\u001b[1;33m:\u001b[0m\u001b[1;33m\u001b[0m\u001b[1;33m\u001b[0m\u001b[0m\n\u001b[1;32m---> 63\u001b[1;33m                 \u001b[1;32mreturn\u001b[0m \u001b[0mf\u001b[0m\u001b[1;33m(\u001b[0m\u001b[1;33m*\u001b[0m\u001b[0margs\u001b[0m\u001b[1;33m,\u001b[0m \u001b[1;33m**\u001b[0m\u001b[0mkwargs\u001b[0m\u001b[1;33m)\u001b[0m\u001b[1;33m\u001b[0m\u001b[1;33m\u001b[0m\u001b[0m\n\u001b[0m\u001b[0;32m     64\u001b[0m \u001b[1;33m\u001b[0m\u001b[0m\n\u001b[0;32m     65\u001b[0m             \u001b[1;31m# extra_args > 0\u001b[0m\u001b[1;33m\u001b[0m\u001b[1;33m\u001b[0m\u001b[1;33m\u001b[0m\u001b[0m\n",
      "\u001b[1;32m~\\anaconda3\\lib\\site-packages\\sklearn\\utils\\validation.py\u001b[0m in \u001b[0;36mcheck_array\u001b[1;34m(array, accept_sparse, accept_large_sparse, dtype, order, copy, force_all_finite, ensure_2d, allow_nd, ensure_min_samples, ensure_min_features, estimator)\u001b[0m\n\u001b[0;32m    718\u001b[0m \u001b[1;33m\u001b[0m\u001b[0m\n\u001b[0;32m    719\u001b[0m         \u001b[1;32mif\u001b[0m \u001b[0mforce_all_finite\u001b[0m\u001b[1;33m:\u001b[0m\u001b[1;33m\u001b[0m\u001b[1;33m\u001b[0m\u001b[0m\n\u001b[1;32m--> 720\u001b[1;33m             _assert_all_finite(array,\n\u001b[0m\u001b[0;32m    721\u001b[0m                                allow_nan=force_all_finite == 'allow-nan')\n\u001b[0;32m    722\u001b[0m \u001b[1;33m\u001b[0m\u001b[0m\n",
      "\u001b[1;32m~\\anaconda3\\lib\\site-packages\\sklearn\\utils\\validation.py\u001b[0m in \u001b[0;36m_assert_all_finite\u001b[1;34m(X, allow_nan, msg_dtype)\u001b[0m\n\u001b[0;32m    109\u001b[0m     \u001b[1;32melif\u001b[0m \u001b[0mX\u001b[0m\u001b[1;33m.\u001b[0m\u001b[0mdtype\u001b[0m \u001b[1;33m==\u001b[0m \u001b[0mnp\u001b[0m\u001b[1;33m.\u001b[0m\u001b[0mdtype\u001b[0m\u001b[1;33m(\u001b[0m\u001b[1;34m'object'\u001b[0m\u001b[1;33m)\u001b[0m \u001b[1;32mand\u001b[0m \u001b[1;32mnot\u001b[0m \u001b[0mallow_nan\u001b[0m\u001b[1;33m:\u001b[0m\u001b[1;33m\u001b[0m\u001b[1;33m\u001b[0m\u001b[0m\n\u001b[0;32m    110\u001b[0m         \u001b[1;32mif\u001b[0m \u001b[0m_object_dtype_isnan\u001b[0m\u001b[1;33m(\u001b[0m\u001b[0mX\u001b[0m\u001b[1;33m)\u001b[0m\u001b[1;33m.\u001b[0m\u001b[0many\u001b[0m\u001b[1;33m(\u001b[0m\u001b[1;33m)\u001b[0m\u001b[1;33m:\u001b[0m\u001b[1;33m\u001b[0m\u001b[1;33m\u001b[0m\u001b[0m\n\u001b[1;32m--> 111\u001b[1;33m             \u001b[1;32mraise\u001b[0m \u001b[0mValueError\u001b[0m\u001b[1;33m(\u001b[0m\u001b[1;34m\"Input contains NaN\"\u001b[0m\u001b[1;33m)\u001b[0m\u001b[1;33m\u001b[0m\u001b[1;33m\u001b[0m\u001b[0m\n\u001b[0m\u001b[0;32m    112\u001b[0m \u001b[1;33m\u001b[0m\u001b[0m\n\u001b[0;32m    113\u001b[0m \u001b[1;33m\u001b[0m\u001b[0m\n",
      "\u001b[1;31mValueError\u001b[0m: Input contains NaN"
     ]
    }
   ],
   "source": [
    " x_train, y_train = smote.fit_resample(x_train, y_train)\n",
    "    "
   ]
  },
  {
   "cell_type": "code",
   "execution_count": null,
   "id": "7fc1fa3f-e14d-4550-8afa-f0f74edddb74",
   "metadata": {},
   "outputs": [],
   "source": [
    "x_train_cat, y_train_cat = smote.fit_resample(x_train_cat, y_train_cat)"
   ]
  },
  {
   "cell_type": "code",
   "execution_count": null,
   "id": "2281d21b-0449-495b-ab55-532874cfad9c",
   "metadata": {},
   "outputs": [],
   "source": [
    "\n",
    "sns.countplot(x=y_train);\n"
   ]
  },
  {
   "cell_type": "code",
   "execution_count": 17,
   "id": "18d49ad2-09f8-48a2-aabe-8099e6a9a3d7",
   "metadata": {
    "colab": {
     "base_uri": "https://localhost:8080/",
     "height": 304
    },
    "id": "18d49ad2-09f8-48a2-aabe-8099e6a9a3d7",
    "outputId": "790b24d9-e556-4271-e0df-152baa4eaf56"
   },
   "outputs": [
    {
     "data": {
      "text/html": [
       "<div>\n",
       "<style scoped>\n",
       "    .dataframe tbody tr th:only-of-type {\n",
       "        vertical-align: middle;\n",
       "    }\n",
       "\n",
       "    .dataframe tbody tr th {\n",
       "        vertical-align: top;\n",
       "    }\n",
       "\n",
       "    .dataframe thead th {\n",
       "        text-align: right;\n",
       "    }\n",
       "</style>\n",
       "<table border=\"1\" class=\"dataframe\">\n",
       "  <thead>\n",
       "    <tr style=\"text-align: right;\">\n",
       "      <th></th>\n",
       "      <th>Type</th>\n",
       "      <th>InitialPackage</th>\n",
       "      <th>Billing</th>\n",
       "      <th>Area</th>\n",
       "      <th>OfferedPackage</th>\n",
       "      <th>AdditionalService</th>\n",
       "      <th>AdditionalBilling</th>\n",
       "      <th>OfferingTime</th>\n",
       "      <th>Use Inet</th>\n",
       "      <th>Use TV</th>\n",
       "      <th>LoS</th>\n",
       "    </tr>\n",
       "  </thead>\n",
       "  <tbody>\n",
       "    <tr>\n",
       "      <th>3379</th>\n",
       "      <td>Dual</td>\n",
       "      <td>20M</td>\n",
       "      <td>19.17</td>\n",
       "      <td>MINNESOTA</td>\n",
       "      <td>30M Prime</td>\n",
       "      <td>NO</td>\n",
       "      <td>2.0</td>\n",
       "      <td>Morning</td>\n",
       "      <td>NaN</td>\n",
       "      <td>0</td>\n",
       "      <td>NaN</td>\n",
       "    </tr>\n",
       "    <tr>\n",
       "      <th>369</th>\n",
       "      <td>Dual</td>\n",
       "      <td>20M</td>\n",
       "      <td>25.83</td>\n",
       "      <td>MINNESOTA</td>\n",
       "      <td>30M Basic</td>\n",
       "      <td>NO</td>\n",
       "      <td>0.5</td>\n",
       "      <td>Morning</td>\n",
       "      <td>NaN</td>\n",
       "      <td>0</td>\n",
       "      <td>23.0</td>\n",
       "    </tr>\n",
       "    <tr>\n",
       "      <th>2299</th>\n",
       "      <td>Dual</td>\n",
       "      <td>10M</td>\n",
       "      <td>15.00</td>\n",
       "      <td>RHODE ISLAND</td>\n",
       "      <td>20M Prime</td>\n",
       "      <td>NO</td>\n",
       "      <td>2.0</td>\n",
       "      <td>Afternoon</td>\n",
       "      <td>160187.0</td>\n",
       "      <td>0</td>\n",
       "      <td>22.0</td>\n",
       "    </tr>\n",
       "    <tr>\n",
       "      <th>510</th>\n",
       "      <td>Dual</td>\n",
       "      <td>10M</td>\n",
       "      <td>15.00</td>\n",
       "      <td>MINNESOTA</td>\n",
       "      <td>20M Lite</td>\n",
       "      <td>NO</td>\n",
       "      <td>3.0</td>\n",
       "      <td>Noon</td>\n",
       "      <td>189744.0</td>\n",
       "      <td>0</td>\n",
       "      <td>23.0</td>\n",
       "    </tr>\n",
       "    <tr>\n",
       "      <th>3511</th>\n",
       "      <td>Dual</td>\n",
       "      <td>20M</td>\n",
       "      <td>19.17</td>\n",
       "      <td>KENTUCKY</td>\n",
       "      <td>30M Prime</td>\n",
       "      <td>NO</td>\n",
       "      <td>2.0</td>\n",
       "      <td>Afternoon</td>\n",
       "      <td>206083.0</td>\n",
       "      <td>0</td>\n",
       "      <td>NaN</td>\n",
       "    </tr>\n",
       "  </tbody>\n",
       "</table>\n",
       "</div>"
      ],
      "text/plain": [
       "      Type InitialPackage  Billing          Area OfferedPackage  \\\n",
       "3379  Dual            20M    19.17     MINNESOTA      30M Prime   \n",
       "369   Dual            20M    25.83     MINNESOTA      30M Basic   \n",
       "2299  Dual            10M    15.00  RHODE ISLAND      20M Prime   \n",
       "510   Dual            10M    15.00     MINNESOTA       20M Lite   \n",
       "3511  Dual            20M    19.17      KENTUCKY      30M Prime   \n",
       "\n",
       "     AdditionalService  AdditionalBilling OfferingTime  Use Inet  Use TV   LoS  \n",
       "3379                NO                2.0      Morning       NaN       0   NaN  \n",
       "369                 NO                0.5      Morning       NaN       0  23.0  \n",
       "2299                NO                2.0    Afternoon  160187.0       0  22.0  \n",
       "510                 NO                3.0         Noon  189744.0       0  23.0  \n",
       "3511                NO                2.0    Afternoon  206083.0       0   NaN  "
      ]
     },
     "execution_count": 17,
     "metadata": {},
     "output_type": "execute_result"
    }
   ],
   "source": [
    "x_train.head()"
   ]
  },
  {
   "cell_type": "code",
   "execution_count": 18,
   "id": "30fb6698-bd58-4437-a2e0-8d6338efaca3",
   "metadata": {
    "colab": {
     "base_uri": "https://localhost:8080/",
     "height": 152
    },
    "id": "30fb6698-bd58-4437-a2e0-8d6338efaca3",
    "outputId": "0747e623-e2cd-4d3c-ab87-d8d1865980eb"
   },
   "outputs": [
    {
     "data": {
      "text/plain": [
       "ColumnTransformer(transformers=[('num',\n",
       "                                 Pipeline(steps=[('imputer',\n",
       "                                                  SimpleImputer(strategy='median')),\n",
       "                                                 ('scaler', StandardScaler())]),\n",
       "                                 ['Billing', 'AdditionalBilling', 'Use Inet',\n",
       "                                  'Use TV', 'LoS']),\n",
       "                                ('cat',\n",
       "                                 Pipeline(steps=[('imputer',\n",
       "                                                  SimpleImputer(fill_value='Undefined',\n",
       "                                                                strategy='constant')),\n",
       "                                                 ('encoder',\n",
       "                                                  OneHotEncoder(handle_unknown='ignore'))]),\n",
       "                                 ['Type', 'InitialPackage', 'Area',\n",
       "                                  'OfferedPackage', 'AdditionalService',\n",
       "                                  'OfferingTime'])])"
      ]
     },
     "execution_count": 18,
     "metadata": {},
     "output_type": "execute_result"
    }
   ],
   "source": [
    "\n",
    "\n",
    "num_transformer = Pipeline(\n",
    "    [\n",
    "        ('imputer', SimpleImputer(strategy='median')),\n",
    "        ('scaler', StandardScaler())  # z-score\n",
    "    ]\n",
    ")\n",
    "\n",
    "cat_transformer = Pipeline(\n",
    "    [\n",
    "        ('imputer', SimpleImputer(strategy='constant', fill_value='Undefined')),\n",
    "        ('encoder', OneHotEncoder(handle_unknown='ignore'))\n",
    "    ]\n",
    ")\n",
    "\n",
    "data_transformer = ColumnTransformer(\n",
    "    [\n",
    "        ('num', num_transformer, num_features),\n",
    "        ('cat', cat_transformer, cat_features)\n",
    "    ]\n",
    ")\n",
    "\n",
    "data_transformer"
   ]
  },
  {
   "cell_type": "markdown",
   "id": "86fcf348-e046-4fa0-b406-d300a7ae696c",
   "metadata": {
    "id": "86fcf348-e046-4fa0-b406-d300a7ae696c"
   },
   "source": [
    "### Neural Network"
   ]
  },
  {
   "cell_type": "code",
   "execution_count": 27,
   "id": "9299452e-394b-4e07-9857-1e2461e01698",
   "metadata": {
    "id": "9299452e-394b-4e07-9857-1e2461e01698"
   },
   "outputs": [],
   "source": [
    "from sklearn import set_config\n",
    "set_config(display='diagram')\n",
    "\n",
    "from keras.wrappers.scikit_learn import KerasRegressor\n",
    "from keras.wrappers.scikit_learn import KerasClassifier\n",
    "from keras.models import Sequential\n",
    "from keras.layers import Activation\n",
    "from keras.layers import Dense\n",
    "from keras.layers import Dropout\n",
    "from sklearn.preprocessing import FunctionTransformer\n",
    "\n",
    "def create_model(optimizer='adam'):\n",
    "    model = Sequential()\n",
    "    model.add(Dense(128,activation='relu'))\n",
    "    model.add(Dense(1,activation='sigmoid'))\n",
    "\n",
    "    model.compile(loss='binary_crossentropy',optimizer=optimizer, metrics=['accuracy'])\n",
    "\n",
    "    return model\n",
    "\n",
    "# wrap the model using the function you created\n",
    "clf = KerasClassifier(build_fn=create_model)\n",
    "\n",
    "pipenn = Pipeline(\n",
    "    [\n",
    "        ('preprocess', data_transformer),\n",
    "        ('clf', clf)\n",
    "    ]\n",
    ")"
   ]
  },
  {
   "cell_type": "code",
   "execution_count": 28,
   "id": "206a922d-c117-4e87-aa9f-04ae6368c3ac",
   "metadata": {
    "colab": {
     "base_uri": "https://localhost:8080/",
     "height": 1000
    },
    "id": "206a922d-c117-4e87-aa9f-04ae6368c3ac",
    "outputId": "924ce3ce-7e68-43a3-9c64-be29406c1d38",
    "tags": []
   },
   "outputs": [
    {
     "name": "stdout",
     "output_type": "stream",
     "text": [
      "Epoch 1/25\n",
      "111/111 [==============================] - 1s 3ms/step - loss: 0.2513 - accuracy: 0.9121\n",
      "Epoch 2/25\n",
      "111/111 [==============================] - 0s 3ms/step - loss: 0.0757 - accuracy: 0.9730\n",
      "Epoch 3/25\n",
      "111/111 [==============================] - 0s 4ms/step - loss: 0.0637 - accuracy: 0.9755\n",
      "Epoch 4/25\n",
      "111/111 [==============================] - 0s 3ms/step - loss: 0.0598 - accuracy: 0.9763\n",
      "Epoch 5/25\n",
      "111/111 [==============================] - 0s 2ms/step - loss: 0.0581 - accuracy: 0.9769\n",
      "Epoch 6/25\n",
      "111/111 [==============================] - 0s 2ms/step - loss: 0.0570 - accuracy: 0.9769\n",
      "Epoch 7/25\n",
      "111/111 [==============================] - 0s 2ms/step - loss: 0.0563 - accuracy: 0.9780\n",
      "Epoch 8/25\n",
      "111/111 [==============================] - 0s 2ms/step - loss: 0.0550 - accuracy: 0.9780\n",
      "Epoch 9/25\n",
      "111/111 [==============================] - 0s 2ms/step - loss: 0.0551 - accuracy: 0.9789\n",
      "Epoch 10/25\n",
      "111/111 [==============================] - 0s 2ms/step - loss: 0.0543 - accuracy: 0.9775\n",
      "Epoch 11/25\n",
      "111/111 [==============================] - 0s 2ms/step - loss: 0.0535 - accuracy: 0.9772\n",
      "Epoch 12/25\n",
      "111/111 [==============================] - 0s 2ms/step - loss: 0.0533 - accuracy: 0.9775\n",
      "Epoch 13/25\n",
      "111/111 [==============================] - 0s 2ms/step - loss: 0.0521 - accuracy: 0.9791\n",
      "Epoch 14/25\n",
      "111/111 [==============================] - 0s 2ms/step - loss: 0.0525 - accuracy: 0.9777\n",
      "Epoch 15/25\n",
      "111/111 [==============================] - 0s 2ms/step - loss: 0.0521 - accuracy: 0.9769\n",
      "Epoch 16/25\n",
      "111/111 [==============================] - 0s 2ms/step - loss: 0.0517 - accuracy: 0.9783\n",
      "Epoch 17/25\n",
      "111/111 [==============================] - 0s 2ms/step - loss: 0.0510 - accuracy: 0.9797\n",
      "Epoch 18/25\n",
      "111/111 [==============================] - 0s 3ms/step - loss: 0.0506 - accuracy: 0.9797\n",
      "Epoch 19/25\n",
      "111/111 [==============================] - 0s 3ms/step - loss: 0.0504 - accuracy: 0.9780\n",
      "Epoch 20/25\n",
      "111/111 [==============================] - 0s 3ms/step - loss: 0.0495 - accuracy: 0.9780\n",
      "Epoch 21/25\n",
      "111/111 [==============================] - 0s 2ms/step - loss: 0.0500 - accuracy: 0.9789\n",
      "Epoch 22/25\n",
      "111/111 [==============================] - 0s 3ms/step - loss: 0.0497 - accuracy: 0.9800\n",
      "Epoch 23/25\n",
      "111/111 [==============================] - 0s 3ms/step - loss: 0.0496 - accuracy: 0.9786\n",
      "Epoch 24/25\n",
      "111/111 [==============================] - 0s 3ms/step - loss: 0.0484 - accuracy: 0.9780\n",
      "Epoch 25/25\n",
      "111/111 [==============================] - 0s 3ms/step - loss: 0.0489 - accuracy: 0.9786\n"
     ]
    },
    {
     "data": {
      "text/html": [
       "<style>#sk-2035636a-fb90-4674-8a0c-8c0f782357ef {color: black;background-color: white;}#sk-2035636a-fb90-4674-8a0c-8c0f782357ef pre{padding: 0;}#sk-2035636a-fb90-4674-8a0c-8c0f782357ef div.sk-toggleable {background-color: white;}#sk-2035636a-fb90-4674-8a0c-8c0f782357ef label.sk-toggleable__label {cursor: pointer;display: block;width: 100%;margin-bottom: 0;padding: 0.2em 0.3em;box-sizing: border-box;text-align: center;}#sk-2035636a-fb90-4674-8a0c-8c0f782357ef div.sk-toggleable__content {max-height: 0;max-width: 0;overflow: hidden;text-align: left;background-color: #f0f8ff;}#sk-2035636a-fb90-4674-8a0c-8c0f782357ef div.sk-toggleable__content pre {margin: 0.2em;color: black;border-radius: 0.25em;background-color: #f0f8ff;}#sk-2035636a-fb90-4674-8a0c-8c0f782357ef input.sk-toggleable__control:checked~div.sk-toggleable__content {max-height: 200px;max-width: 100%;overflow: auto;}#sk-2035636a-fb90-4674-8a0c-8c0f782357ef div.sk-estimator input.sk-toggleable__control:checked~label.sk-toggleable__label {background-color: #d4ebff;}#sk-2035636a-fb90-4674-8a0c-8c0f782357ef div.sk-label input.sk-toggleable__control:checked~label.sk-toggleable__label {background-color: #d4ebff;}#sk-2035636a-fb90-4674-8a0c-8c0f782357ef input.sk-hidden--visually {border: 0;clip: rect(1px 1px 1px 1px);clip: rect(1px, 1px, 1px, 1px);height: 1px;margin: -1px;overflow: hidden;padding: 0;position: absolute;width: 1px;}#sk-2035636a-fb90-4674-8a0c-8c0f782357ef div.sk-estimator {font-family: monospace;background-color: #f0f8ff;margin: 0.25em 0.25em;border: 1px dotted black;border-radius: 0.25em;box-sizing: border-box;}#sk-2035636a-fb90-4674-8a0c-8c0f782357ef div.sk-estimator:hover {background-color: #d4ebff;}#sk-2035636a-fb90-4674-8a0c-8c0f782357ef div.sk-parallel-item::after {content: \"\";width: 100%;border-bottom: 1px solid gray;flex-grow: 1;}#sk-2035636a-fb90-4674-8a0c-8c0f782357ef div.sk-label:hover label.sk-toggleable__label {background-color: #d4ebff;}#sk-2035636a-fb90-4674-8a0c-8c0f782357ef div.sk-serial::before {content: \"\";position: absolute;border-left: 1px solid gray;box-sizing: border-box;top: 2em;bottom: 0;left: 50%;}#sk-2035636a-fb90-4674-8a0c-8c0f782357ef div.sk-serial {display: flex;flex-direction: column;align-items: center;background-color: white;}#sk-2035636a-fb90-4674-8a0c-8c0f782357ef div.sk-item {z-index: 1;}#sk-2035636a-fb90-4674-8a0c-8c0f782357ef div.sk-parallel {display: flex;align-items: stretch;justify-content: center;background-color: white;}#sk-2035636a-fb90-4674-8a0c-8c0f782357ef div.sk-parallel-item {display: flex;flex-direction: column;position: relative;background-color: white;}#sk-2035636a-fb90-4674-8a0c-8c0f782357ef div.sk-parallel-item:first-child::after {align-self: flex-end;width: 50%;}#sk-2035636a-fb90-4674-8a0c-8c0f782357ef div.sk-parallel-item:last-child::after {align-self: flex-start;width: 50%;}#sk-2035636a-fb90-4674-8a0c-8c0f782357ef div.sk-parallel-item:only-child::after {width: 0;}#sk-2035636a-fb90-4674-8a0c-8c0f782357ef div.sk-dashed-wrapped {border: 1px dashed gray;margin: 0.2em;box-sizing: border-box;padding-bottom: 0.1em;background-color: white;position: relative;}#sk-2035636a-fb90-4674-8a0c-8c0f782357ef div.sk-label label {font-family: monospace;font-weight: bold;background-color: white;display: inline-block;line-height: 1.2em;}#sk-2035636a-fb90-4674-8a0c-8c0f782357ef div.sk-label-container {position: relative;z-index: 2;text-align: center;}#sk-2035636a-fb90-4674-8a0c-8c0f782357ef div.sk-container {display: inline-block;position: relative;}</style><div id=\"sk-2035636a-fb90-4674-8a0c-8c0f782357ef\" class\"sk-top-container\"><div class=\"sk-container\"><div class=\"sk-item sk-dashed-wrapped\"><div class=\"sk-label-container\"><div class=\"sk-label sk-toggleable\"><input class=\"sk-toggleable__control sk-hidden--visually\" id=\"c9d988a5-dab0-4c4b-a9b5-7bff2e3e5950\" type=\"checkbox\" ><label class=\"sk-toggleable__label\" for=\"c9d988a5-dab0-4c4b-a9b5-7bff2e3e5950\">Pipeline</label><div class=\"sk-toggleable__content\"><pre>Pipeline(steps=[('preprocess',\n",
       "                 ColumnTransformer(transformers=[('num',\n",
       "                                                  Pipeline(steps=[('imputer',\n",
       "                                                                   SimpleImputer(strategy='median')),\n",
       "                                                                  ('scaler',\n",
       "                                                                   StandardScaler())]),\n",
       "                                                  ['Billing',\n",
       "                                                   'AdditionalBilling',\n",
       "                                                   'Use Inet', 'Use TV',\n",
       "                                                   'LoS']),\n",
       "                                                 ('cat',\n",
       "                                                  Pipeline(steps=[('imputer',\n",
       "                                                                   SimpleImputer(fill_value='Undefined',\n",
       "                                                                                 strategy='constant')),\n",
       "                                                                  ('encoder',\n",
       "                                                                   OneHotEncoder(handle_unknown='ignore'))]),\n",
       "                                                  ['Type', 'InitialPackage',\n",
       "                                                   'Area', 'OfferedPackage',\n",
       "                                                   'AdditionalService',\n",
       "                                                   'OfferingTime'])])),\n",
       "                ('clf',\n",
       "                 <keras.wrappers.scikit_learn.KerasClassifier object at 0x000002244AE47160>)])</pre></div></div></div><div class=\"sk-serial\"><div class=\"sk-item sk-dashed-wrapped\"><div class=\"sk-label-container\"><div class=\"sk-label sk-toggleable\"><input class=\"sk-toggleable__control sk-hidden--visually\" id=\"fb271931-001c-499f-8a9a-62b4da8ef670\" type=\"checkbox\" ><label class=\"sk-toggleable__label\" for=\"fb271931-001c-499f-8a9a-62b4da8ef670\">preprocess: ColumnTransformer</label><div class=\"sk-toggleable__content\"><pre>ColumnTransformer(transformers=[('num',\n",
       "                                 Pipeline(steps=[('imputer',\n",
       "                                                  SimpleImputer(strategy='median')),\n",
       "                                                 ('scaler', StandardScaler())]),\n",
       "                                 ['Billing', 'AdditionalBilling', 'Use Inet',\n",
       "                                  'Use TV', 'LoS']),\n",
       "                                ('cat',\n",
       "                                 Pipeline(steps=[('imputer',\n",
       "                                                  SimpleImputer(fill_value='Undefined',\n",
       "                                                                strategy='constant')),\n",
       "                                                 ('encoder',\n",
       "                                                  OneHotEncoder(handle_unknown='ignore'))]),\n",
       "                                 ['Type', 'InitialPackage', 'Area',\n",
       "                                  'OfferedPackage', 'AdditionalService',\n",
       "                                  'OfferingTime'])])</pre></div></div></div><div class=\"sk-parallel\"><div class=\"sk-parallel-item\"><div class=\"sk-item\"><div class=\"sk-label-container\"><div class=\"sk-label sk-toggleable\"><input class=\"sk-toggleable__control sk-hidden--visually\" id=\"d380b352-6f3e-4a8b-beeb-ed244ce7d4ec\" type=\"checkbox\" ><label class=\"sk-toggleable__label\" for=\"d380b352-6f3e-4a8b-beeb-ed244ce7d4ec\">num</label><div class=\"sk-toggleable__content\"><pre>['Billing', 'AdditionalBilling', 'Use Inet', 'Use TV', 'LoS']</pre></div></div></div><div class=\"sk-serial\"><div class=\"sk-item\"><div class=\"sk-serial\"><div class=\"sk-item\"><div class=\"sk-estimator sk-toggleable\"><input class=\"sk-toggleable__control sk-hidden--visually\" id=\"005fbcd0-838d-4807-ab1d-7304a7fcede1\" type=\"checkbox\" ><label class=\"sk-toggleable__label\" for=\"005fbcd0-838d-4807-ab1d-7304a7fcede1\">SimpleImputer</label><div class=\"sk-toggleable__content\"><pre>SimpleImputer(strategy='median')</pre></div></div></div><div class=\"sk-item\"><div class=\"sk-estimator sk-toggleable\"><input class=\"sk-toggleable__control sk-hidden--visually\" id=\"61a0b44a-941a-43b9-89d3-e1971fce347b\" type=\"checkbox\" ><label class=\"sk-toggleable__label\" for=\"61a0b44a-941a-43b9-89d3-e1971fce347b\">StandardScaler</label><div class=\"sk-toggleable__content\"><pre>StandardScaler()</pre></div></div></div></div></div></div></div></div><div class=\"sk-parallel-item\"><div class=\"sk-item\"><div class=\"sk-label-container\"><div class=\"sk-label sk-toggleable\"><input class=\"sk-toggleable__control sk-hidden--visually\" id=\"826036e5-9e7a-4bdb-9e6e-5f54f9a62c0d\" type=\"checkbox\" ><label class=\"sk-toggleable__label\" for=\"826036e5-9e7a-4bdb-9e6e-5f54f9a62c0d\">cat</label><div class=\"sk-toggleable__content\"><pre>['Type', 'InitialPackage', 'Area', 'OfferedPackage', 'AdditionalService', 'OfferingTime']</pre></div></div></div><div class=\"sk-serial\"><div class=\"sk-item\"><div class=\"sk-serial\"><div class=\"sk-item\"><div class=\"sk-estimator sk-toggleable\"><input class=\"sk-toggleable__control sk-hidden--visually\" id=\"23d24c01-30bf-45ac-83f6-bb5c678983a8\" type=\"checkbox\" ><label class=\"sk-toggleable__label\" for=\"23d24c01-30bf-45ac-83f6-bb5c678983a8\">SimpleImputer</label><div class=\"sk-toggleable__content\"><pre>SimpleImputer(fill_value='Undefined', strategy='constant')</pre></div></div></div><div class=\"sk-item\"><div class=\"sk-estimator sk-toggleable\"><input class=\"sk-toggleable__control sk-hidden--visually\" id=\"7dc25651-dd1a-46e1-821d-89451b66a6e4\" type=\"checkbox\" ><label class=\"sk-toggleable__label\" for=\"7dc25651-dd1a-46e1-821d-89451b66a6e4\">OneHotEncoder</label><div class=\"sk-toggleable__content\"><pre>OneHotEncoder(handle_unknown='ignore')</pre></div></div></div></div></div></div></div></div></div></div><div class=\"sk-item\"><div class=\"sk-estimator sk-toggleable\"><input class=\"sk-toggleable__control sk-hidden--visually\" id=\"0c9ac92c-1bd8-4e05-be94-d65b73ef80ba\" type=\"checkbox\" ><label class=\"sk-toggleable__label\" for=\"0c9ac92c-1bd8-4e05-be94-d65b73ef80ba\">KerasClassifier</label><div class=\"sk-toggleable__content\"><pre><keras.wrappers.scikit_learn.KerasClassifier object at 0x000002244AE47160></pre></div></div></div></div></div></div></div>"
      ],
      "text/plain": [
       "Pipeline(steps=[('preprocess',\n",
       "                 ColumnTransformer(transformers=[('num',\n",
       "                                                  Pipeline(steps=[('imputer',\n",
       "                                                                   SimpleImputer(strategy='median')),\n",
       "                                                                  ('scaler',\n",
       "                                                                   StandardScaler())]),\n",
       "                                                  ['Billing',\n",
       "                                                   'AdditionalBilling',\n",
       "                                                   'Use Inet', 'Use TV',\n",
       "                                                   'LoS']),\n",
       "                                                 ('cat',\n",
       "                                                  Pipeline(steps=[('imputer',\n",
       "                                                                   SimpleImputer(fill_value='Undefined',\n",
       "                                                                                 strategy='constant')),\n",
       "                                                                  ('encoder',\n",
       "                                                                   OneHotEncoder(handle_unknown='ignore'))]),\n",
       "                                                  ['Type', 'InitialPackage',\n",
       "                                                   'Area', 'OfferedPackage',\n",
       "                                                   'AdditionalService',\n",
       "                                                   'OfferingTime'])])),\n",
       "                ('clf',\n",
       "                 <keras.wrappers.scikit_learn.KerasClassifier object at 0x000002244AE47160>)])"
      ]
     },
     "execution_count": 28,
     "metadata": {},
     "output_type": "execute_result"
    }
   ],
   "source": [
    "pipenn.fit(x_train, y_train,\n",
    "         clf__epochs=25)"
   ]
  },
  {
   "cell_type": "code",
   "execution_count": null,
   "id": "yxkzXqzwMkeu",
   "metadata": {
    "colab": {
     "base_uri": "https://localhost:8080/"
    },
    "id": "yxkzXqzwMkeu",
    "outputId": "f8945daa-30fb-4c08-92b4-45cfe8e669b0"
   },
   "outputs": [
    {
     "data": {
      "text/plain": [
       "array([['AGREE'],\n",
       "       ['AGREE'],\n",
       "       ['AGREE'],\n",
       "       ...,\n",
       "       ['AGREE'],\n",
       "       ['AGREE'],\n",
       "       ['AGREE']], dtype=object)"
      ]
     },
     "execution_count": 36,
     "metadata": {},
     "output_type": "execute_result"
    }
   ],
   "source": [
    "pipe.predict(x_test)"
   ]
  },
  {
   "cell_type": "code",
   "execution_count": null,
   "id": "Y9_-DBfly5wu",
   "metadata": {
    "colab": {
     "base_uri": "https://localhost:8080/"
    },
    "id": "Y9_-DBfly5wu",
    "outputId": "6d01636f-1b64-495a-e2f1-38a6783e101a"
   },
   "outputs": [
    {
     "data": {
      "text/plain": [
       "array([[9.9953401e-01, 4.6601892e-04],\n",
       "       [9.9921751e-01, 7.8251958e-04],\n",
       "       [9.9999988e-01, 1.4737667e-07],\n",
       "       ...,\n",
       "       [9.9748015e-01, 2.5198162e-03],\n",
       "       [9.9999118e-01, 8.8233983e-06],\n",
       "       [9.9931622e-01, 6.8378448e-04]], dtype=float32)"
      ]
     },
     "execution_count": 37,
     "metadata": {},
     "output_type": "execute_result"
    }
   ],
   "source": [
    "pipe.predict_proba(x_test) # probabilitas"
   ]
  },
  {
   "cell_type": "code",
   "execution_count": null,
   "id": "nxX4p0X10JEO",
   "metadata": {
    "colab": {
     "base_uri": "https://localhost:8080/"
    },
    "id": "nxX4p0X10JEO",
    "outputId": "ea3aa35e-2560-4e4a-fefb-711bc1fe9ddb"
   },
   "outputs": [
    {
     "data": {
      "text/plain": [
       "array([0.999534  , 0.9992175 , 0.9999999 , ..., 0.99748015, 0.9999912 ,\n",
       "       0.9993162 ], dtype=float32)"
      ]
     },
     "execution_count": 40,
     "metadata": {},
     "output_type": "execute_result"
    }
   ],
   "source": [
    "pipe.predict_proba(x_test)[:, 0] # probabilitas kelas AGREE"
   ]
  },
  {
   "cell_type": "code",
   "execution_count": 29,
   "id": "e96ce664-02d3-494b-a0b0-b64ebcc172e6",
   "metadata": {},
   "outputs": [
    {
     "name": "stdout",
     "output_type": "stream",
     "text": [
      "              precision    recall  f1-score   support\n",
      "\n",
      "       AGREE       0.98      0.99      0.99      2913\n",
      "     DECLINE       0.97      0.91      0.94       636\n",
      "\n",
      "    accuracy                           0.98      3549\n",
      "   macro avg       0.98      0.95      0.96      3549\n",
      "weighted avg       0.98      0.98      0.98      3549\n",
      "\n",
      "              precision    recall  f1-score   support\n",
      "\n",
      "       AGREE       0.98      1.00      0.99       972\n",
      "     DECLINE       0.98      0.90      0.94       212\n",
      "\n",
      "    accuracy                           0.98      1184\n",
      "   macro avg       0.98      0.95      0.96      1184\n",
      "weighted avg       0.98      0.98      0.98      1184\n",
      "\n"
     ]
    }
   ],
   "source": [
    "from sklearn.metrics import classification_report\n",
    "print(classification_report(y_train, pipenn.predict(x_train)))\n",
    "print(classification_report(y_test, pipenn.predict(x_test)))"
   ]
  },
  {
   "cell_type": "code",
   "execution_count": 42,
   "id": "85ff8144-74b4-4b36-90ff-cf118feb1504",
   "metadata": {},
   "outputs": [
    {
     "name": "stdout",
     "output_type": "stream",
     "text": [
      "INFO:tensorflow:Assets written to: ram://d3dcef71-26e4-4ed5-a7a3-0f525f9f8a57/assets\n"
     ]
    },
    {
     "data": {
      "text/plain": [
       "['nn.joblib']"
      ]
     },
     "execution_count": 42,
     "metadata": {},
     "output_type": "execute_result"
    }
   ],
   "source": [
    "#sav\n",
    "import joblib\n",
    "joblib.dump(pipenn, 'nn.joblib')"
   ]
  },
  {
   "cell_type": "markdown",
   "id": "fe3c30a7-1c73-4684-a111-6f1c260a5e56",
   "metadata": {
    "id": "fe3c30a7-1c73-4684-a111-6f1c260a5e56"
   },
   "source": [
    "### Logistic Regression"
   ]
  },
  {
   "cell_type": "code",
   "execution_count": 30,
   "id": "d0fe1f5b-7d01-417a-866f-dba0d8ac3a23",
   "metadata": {
    "id": "d0fe1f5b-7d01-417a-866f-dba0d8ac3a23"
   },
   "outputs": [],
   "source": [
    "from sklearn.linear_model import LogisticRegression\n",
    "pipelog = Pipeline(\n",
    "    [\n",
    "        ('preprocess', data_transformer),\n",
    "        ('sampling', SMOTE()),\n",
    "        ('classifier', LogisticRegression(max_iter=np.Inf, random_state=123))\n",
    "    ]\n",
    ")"
   ]
  },
  {
   "cell_type": "code",
   "execution_count": 31,
   "id": "e17649de-99fc-4368-a68a-9f4324428ff5",
   "metadata": {
    "id": "e17649de-99fc-4368-a68a-9f4324428ff5",
    "outputId": "2a9cbbc7-9914-4c0f-d632-2fc85f344932"
   },
   "outputs": [
    {
     "data": {
      "text/html": [
       "<style>#sk-51222e06-8eca-4d49-a2b7-b51ee59a3b67 {color: black;background-color: white;}#sk-51222e06-8eca-4d49-a2b7-b51ee59a3b67 pre{padding: 0;}#sk-51222e06-8eca-4d49-a2b7-b51ee59a3b67 div.sk-toggleable {background-color: white;}#sk-51222e06-8eca-4d49-a2b7-b51ee59a3b67 label.sk-toggleable__label {cursor: pointer;display: block;width: 100%;margin-bottom: 0;padding: 0.2em 0.3em;box-sizing: border-box;text-align: center;}#sk-51222e06-8eca-4d49-a2b7-b51ee59a3b67 div.sk-toggleable__content {max-height: 0;max-width: 0;overflow: hidden;text-align: left;background-color: #f0f8ff;}#sk-51222e06-8eca-4d49-a2b7-b51ee59a3b67 div.sk-toggleable__content pre {margin: 0.2em;color: black;border-radius: 0.25em;background-color: #f0f8ff;}#sk-51222e06-8eca-4d49-a2b7-b51ee59a3b67 input.sk-toggleable__control:checked~div.sk-toggleable__content {max-height: 200px;max-width: 100%;overflow: auto;}#sk-51222e06-8eca-4d49-a2b7-b51ee59a3b67 div.sk-estimator input.sk-toggleable__control:checked~label.sk-toggleable__label {background-color: #d4ebff;}#sk-51222e06-8eca-4d49-a2b7-b51ee59a3b67 div.sk-label input.sk-toggleable__control:checked~label.sk-toggleable__label {background-color: #d4ebff;}#sk-51222e06-8eca-4d49-a2b7-b51ee59a3b67 input.sk-hidden--visually {border: 0;clip: rect(1px 1px 1px 1px);clip: rect(1px, 1px, 1px, 1px);height: 1px;margin: -1px;overflow: hidden;padding: 0;position: absolute;width: 1px;}#sk-51222e06-8eca-4d49-a2b7-b51ee59a3b67 div.sk-estimator {font-family: monospace;background-color: #f0f8ff;margin: 0.25em 0.25em;border: 1px dotted black;border-radius: 0.25em;box-sizing: border-box;}#sk-51222e06-8eca-4d49-a2b7-b51ee59a3b67 div.sk-estimator:hover {background-color: #d4ebff;}#sk-51222e06-8eca-4d49-a2b7-b51ee59a3b67 div.sk-parallel-item::after {content: \"\";width: 100%;border-bottom: 1px solid gray;flex-grow: 1;}#sk-51222e06-8eca-4d49-a2b7-b51ee59a3b67 div.sk-label:hover label.sk-toggleable__label {background-color: #d4ebff;}#sk-51222e06-8eca-4d49-a2b7-b51ee59a3b67 div.sk-serial::before {content: \"\";position: absolute;border-left: 1px solid gray;box-sizing: border-box;top: 2em;bottom: 0;left: 50%;}#sk-51222e06-8eca-4d49-a2b7-b51ee59a3b67 div.sk-serial {display: flex;flex-direction: column;align-items: center;background-color: white;}#sk-51222e06-8eca-4d49-a2b7-b51ee59a3b67 div.sk-item {z-index: 1;}#sk-51222e06-8eca-4d49-a2b7-b51ee59a3b67 div.sk-parallel {display: flex;align-items: stretch;justify-content: center;background-color: white;}#sk-51222e06-8eca-4d49-a2b7-b51ee59a3b67 div.sk-parallel-item {display: flex;flex-direction: column;position: relative;background-color: white;}#sk-51222e06-8eca-4d49-a2b7-b51ee59a3b67 div.sk-parallel-item:first-child::after {align-self: flex-end;width: 50%;}#sk-51222e06-8eca-4d49-a2b7-b51ee59a3b67 div.sk-parallel-item:last-child::after {align-self: flex-start;width: 50%;}#sk-51222e06-8eca-4d49-a2b7-b51ee59a3b67 div.sk-parallel-item:only-child::after {width: 0;}#sk-51222e06-8eca-4d49-a2b7-b51ee59a3b67 div.sk-dashed-wrapped {border: 1px dashed gray;margin: 0.2em;box-sizing: border-box;padding-bottom: 0.1em;background-color: white;position: relative;}#sk-51222e06-8eca-4d49-a2b7-b51ee59a3b67 div.sk-label label {font-family: monospace;font-weight: bold;background-color: white;display: inline-block;line-height: 1.2em;}#sk-51222e06-8eca-4d49-a2b7-b51ee59a3b67 div.sk-label-container {position: relative;z-index: 2;text-align: center;}#sk-51222e06-8eca-4d49-a2b7-b51ee59a3b67 div.sk-container {display: inline-block;position: relative;}</style><div id=\"sk-51222e06-8eca-4d49-a2b7-b51ee59a3b67\" class\"sk-top-container\"><div class=\"sk-container\"><div class=\"sk-item sk-dashed-wrapped\"><div class=\"sk-label-container\"><div class=\"sk-label sk-toggleable\"><input class=\"sk-toggleable__control sk-hidden--visually\" id=\"003fb8fc-0a9c-475d-8666-a07bef344bfc\" type=\"checkbox\" ><label class=\"sk-toggleable__label\" for=\"003fb8fc-0a9c-475d-8666-a07bef344bfc\">Pipeline</label><div class=\"sk-toggleable__content\"><pre>Pipeline(steps=[('preprocess',\n",
       "                 ColumnTransformer(transformers=[('num',\n",
       "                                                  Pipeline(steps=[('imputer',\n",
       "                                                                   SimpleImputer(strategy='median')),\n",
       "                                                                  ('scaler',\n",
       "                                                                   StandardScaler())]),\n",
       "                                                  ['Billing',\n",
       "                                                   'AdditionalBilling',\n",
       "                                                   'Use Inet', 'Use TV',\n",
       "                                                   'LoS']),\n",
       "                                                 ('cat',\n",
       "                                                  Pipeline(steps=[('imputer',\n",
       "                                                                   SimpleImputer(fill_value='Undefined',\n",
       "                                                                                 strategy='constant')),\n",
       "                                                                  ('encoder',\n",
       "                                                                   OneHotEncoder(handle_unknown='ignore'))]),\n",
       "                                                  ['Type', 'InitialPackage',\n",
       "                                                   'Area', 'OfferedPackage',\n",
       "                                                   'AdditionalService',\n",
       "                                                   'OfferingTime'])])),\n",
       "                ('sampling', SMOTE()),\n",
       "                ('classifier',\n",
       "                 LogisticRegression(max_iter=inf, random_state=123))])</pre></div></div></div><div class=\"sk-serial\"><div class=\"sk-item sk-dashed-wrapped\"><div class=\"sk-label-container\"><div class=\"sk-label sk-toggleable\"><input class=\"sk-toggleable__control sk-hidden--visually\" id=\"622cd821-dc3b-4152-8c47-45720ef19623\" type=\"checkbox\" ><label class=\"sk-toggleable__label\" for=\"622cd821-dc3b-4152-8c47-45720ef19623\">preprocess: ColumnTransformer</label><div class=\"sk-toggleable__content\"><pre>ColumnTransformer(transformers=[('num',\n",
       "                                 Pipeline(steps=[('imputer',\n",
       "                                                  SimpleImputer(strategy='median')),\n",
       "                                                 ('scaler', StandardScaler())]),\n",
       "                                 ['Billing', 'AdditionalBilling', 'Use Inet',\n",
       "                                  'Use TV', 'LoS']),\n",
       "                                ('cat',\n",
       "                                 Pipeline(steps=[('imputer',\n",
       "                                                  SimpleImputer(fill_value='Undefined',\n",
       "                                                                strategy='constant')),\n",
       "                                                 ('encoder',\n",
       "                                                  OneHotEncoder(handle_unknown='ignore'))]),\n",
       "                                 ['Type', 'InitialPackage', 'Area',\n",
       "                                  'OfferedPackage', 'AdditionalService',\n",
       "                                  'OfferingTime'])])</pre></div></div></div><div class=\"sk-parallel\"><div class=\"sk-parallel-item\"><div class=\"sk-item\"><div class=\"sk-label-container\"><div class=\"sk-label sk-toggleable\"><input class=\"sk-toggleable__control sk-hidden--visually\" id=\"3365a984-c6dd-4146-ac1d-7fb2cac19912\" type=\"checkbox\" ><label class=\"sk-toggleable__label\" for=\"3365a984-c6dd-4146-ac1d-7fb2cac19912\">num</label><div class=\"sk-toggleable__content\"><pre>['Billing', 'AdditionalBilling', 'Use Inet', 'Use TV', 'LoS']</pre></div></div></div><div class=\"sk-serial\"><div class=\"sk-item\"><div class=\"sk-serial\"><div class=\"sk-item\"><div class=\"sk-estimator sk-toggleable\"><input class=\"sk-toggleable__control sk-hidden--visually\" id=\"950011d1-4dd0-46e8-9a85-093bad141416\" type=\"checkbox\" ><label class=\"sk-toggleable__label\" for=\"950011d1-4dd0-46e8-9a85-093bad141416\">SimpleImputer</label><div class=\"sk-toggleable__content\"><pre>SimpleImputer(strategy='median')</pre></div></div></div><div class=\"sk-item\"><div class=\"sk-estimator sk-toggleable\"><input class=\"sk-toggleable__control sk-hidden--visually\" id=\"d740b65c-e7e8-4ec6-a09d-fc03bd356df8\" type=\"checkbox\" ><label class=\"sk-toggleable__label\" for=\"d740b65c-e7e8-4ec6-a09d-fc03bd356df8\">StandardScaler</label><div class=\"sk-toggleable__content\"><pre>StandardScaler()</pre></div></div></div></div></div></div></div></div><div class=\"sk-parallel-item\"><div class=\"sk-item\"><div class=\"sk-label-container\"><div class=\"sk-label sk-toggleable\"><input class=\"sk-toggleable__control sk-hidden--visually\" id=\"73a74c96-cf7c-40f7-b19d-13ce256b35a0\" type=\"checkbox\" ><label class=\"sk-toggleable__label\" for=\"73a74c96-cf7c-40f7-b19d-13ce256b35a0\">cat</label><div class=\"sk-toggleable__content\"><pre>['Type', 'InitialPackage', 'Area', 'OfferedPackage', 'AdditionalService', 'OfferingTime']</pre></div></div></div><div class=\"sk-serial\"><div class=\"sk-item\"><div class=\"sk-serial\"><div class=\"sk-item\"><div class=\"sk-estimator sk-toggleable\"><input class=\"sk-toggleable__control sk-hidden--visually\" id=\"2aa50e15-d03d-48b1-8a1a-34402f2ca4f6\" type=\"checkbox\" ><label class=\"sk-toggleable__label\" for=\"2aa50e15-d03d-48b1-8a1a-34402f2ca4f6\">SimpleImputer</label><div class=\"sk-toggleable__content\"><pre>SimpleImputer(fill_value='Undefined', strategy='constant')</pre></div></div></div><div class=\"sk-item\"><div class=\"sk-estimator sk-toggleable\"><input class=\"sk-toggleable__control sk-hidden--visually\" id=\"2cd4769e-af5e-43cc-aae6-70a93ff7c7d3\" type=\"checkbox\" ><label class=\"sk-toggleable__label\" for=\"2cd4769e-af5e-43cc-aae6-70a93ff7c7d3\">OneHotEncoder</label><div class=\"sk-toggleable__content\"><pre>OneHotEncoder(handle_unknown='ignore')</pre></div></div></div></div></div></div></div></div></div></div><div class=\"sk-item\"><div class=\"sk-estimator sk-toggleable\"><input class=\"sk-toggleable__control sk-hidden--visually\" id=\"22105515-0fce-4aea-8d56-a905abe6fa9d\" type=\"checkbox\" ><label class=\"sk-toggleable__label\" for=\"22105515-0fce-4aea-8d56-a905abe6fa9d\">SMOTE</label><div class=\"sk-toggleable__content\"><pre>SMOTE()</pre></div></div></div><div class=\"sk-item\"><div class=\"sk-estimator sk-toggleable\"><input class=\"sk-toggleable__control sk-hidden--visually\" id=\"c13f714d-f42f-43f5-9d3f-f6b9a0fb6918\" type=\"checkbox\" ><label class=\"sk-toggleable__label\" for=\"c13f714d-f42f-43f5-9d3f-f6b9a0fb6918\">LogisticRegression</label><div class=\"sk-toggleable__content\"><pre>LogisticRegression(max_iter=inf, random_state=123)</pre></div></div></div></div></div></div></div>"
      ],
      "text/plain": [
       "Pipeline(steps=[('preprocess',\n",
       "                 ColumnTransformer(transformers=[('num',\n",
       "                                                  Pipeline(steps=[('imputer',\n",
       "                                                                   SimpleImputer(strategy='median')),\n",
       "                                                                  ('scaler',\n",
       "                                                                   StandardScaler())]),\n",
       "                                                  ['Billing',\n",
       "                                                   'AdditionalBilling',\n",
       "                                                   'Use Inet', 'Use TV',\n",
       "                                                   'LoS']),\n",
       "                                                 ('cat',\n",
       "                                                  Pipeline(steps=[('imputer',\n",
       "                                                                   SimpleImputer(fill_value='Undefined',\n",
       "                                                                                 strategy='constant')),\n",
       "                                                                  ('encoder',\n",
       "                                                                   OneHotEncoder(handle_unknown='ignore'))]),\n",
       "                                                  ['Type', 'InitialPackage',\n",
       "                                                   'Area', 'OfferedPackage',\n",
       "                                                   'AdditionalService',\n",
       "                                                   'OfferingTime'])])),\n",
       "                ('sampling', SMOTE()),\n",
       "                ('classifier',\n",
       "                 LogisticRegression(max_iter=inf, random_state=123))])"
      ]
     },
     "execution_count": 31,
     "metadata": {},
     "output_type": "execute_result"
    }
   ],
   "source": [
    "\n",
    "pipelog.fit(x_train, y_train)"
   ]
  },
  {
   "cell_type": "code",
   "execution_count": 32,
   "id": "16767f6b-997b-4123-b06b-1aff17ffe66d",
   "metadata": {
    "id": "16767f6b-997b-4123-b06b-1aff17ffe66d",
    "outputId": "0d17bc39-a667-4148-ff50-6e1220eeeb4a"
   },
   "outputs": [
    {
     "name": "stdout",
     "output_type": "stream",
     "text": [
      "              precision    recall  f1-score   support\n",
      "\n",
      "       AGREE       0.99      0.97      0.98      2913\n",
      "     DECLINE       0.88      0.95      0.91       636\n",
      "\n",
      "    accuracy                           0.97      3549\n",
      "   macro avg       0.93      0.96      0.95      3549\n",
      "weighted avg       0.97      0.97      0.97      3549\n",
      "\n",
      "              precision    recall  f1-score   support\n",
      "\n",
      "       AGREE       0.99      0.97      0.98       972\n",
      "     DECLINE       0.88      0.94      0.91       212\n",
      "\n",
      "    accuracy                           0.97      1184\n",
      "   macro avg       0.93      0.96      0.95      1184\n",
      "weighted avg       0.97      0.97      0.97      1184\n",
      "\n"
     ]
    }
   ],
   "source": [
    "from sklearn.metrics import classification_report\n",
    "print(classification_report(y_train, pipelog.predict(x_train)))\n",
    "print(classification_report(y_test, pipelog.predict(x_test)))"
   ]
  },
  {
   "cell_type": "code",
   "execution_count": 34,
   "id": "f05d9d38-de8e-4b20-8bbb-c52b2636ae72",
   "metadata": {
    "id": "f05d9d38-de8e-4b20-8bbb-c52b2636ae72",
    "outputId": "e734208a-dbc4-41c2-95e2-43773dc0964a"
   },
   "outputs": [
    {
     "data": {
      "text/plain": [
       "array([[2889,   24],\n",
       "       [  45,  591]], dtype=int64)"
      ]
     },
     "execution_count": 34,
     "metadata": {},
     "output_type": "execute_result"
    }
   ],
   "source": [
    "# import the metrics class\n",
    "from sklearn import metrics\n",
    "cnf_matrix = metrics.confusion_matrix(y_train, pipe.predict(x_train))\n",
    "cnf_matrix"
   ]
  },
  {
   "cell_type": "code",
   "execution_count": 37,
   "id": "e1045082-b9ae-40bd-b863-3e66745ad28d",
   "metadata": {
    "id": "e1045082-b9ae-40bd-b863-3e66745ad28d",
    "outputId": "20b571e2-0b60-408a-ae01-baa4df14b4c6"
   },
   "outputs": [
    {
     "data": {
      "text/plain": [
       "<sklearn.metrics._plot.roc_curve.RocCurveDisplay at 0x2244ae59c40>"
      ]
     },
     "execution_count": 37,
     "metadata": {},
     "output_type": "execute_result"
    },
    {
     "data": {
      "image/png": "[encoded data removed]",
      "text/plain": [
       "<Figure size 432x288 with 1 Axes>"
      ]
     },
     "metadata": {},
     "output_type": "display_data"
    }
   ],
   "source": [
    " metrics.plot_roc_curve(pipelog, x_train, y_train) "
   ]
  },
  {
   "cell_type": "code",
   "execution_count": 38,
   "id": "f4933e1c-2151-49f2-a7b5-ee9c23d72305",
   "metadata": {
    "id": "f4933e1c-2151-49f2-a7b5-ee9c23d72305",
    "outputId": "799dc125-2a1c-4f92-9bb4-271081c78f70"
   },
   "outputs": [
    {
     "data": {
      "text/plain": [
       "<sklearn.metrics._plot.roc_curve.RocCurveDisplay at 0x224465095b0>"
      ]
     },
     "execution_count": 38,
     "metadata": {},
     "output_type": "execute_result"
    },
    {
     "data": {
      "image/png": "[encoded data removed]",
      "text/plain": [
       "<Figure size 432x288 with 1 Axes>"
      ]
     },
     "metadata": {},
     "output_type": "display_data"
    }
   ],
   "source": [
    " metrics.plot_roc_curve(pipelog, x_test, y_test) "
   ]
  },
  {
   "cell_type": "code",
   "execution_count": 39,
   "id": "06bab9bf-9b2f-44a3-b5bd-dbb6c4e7b3f2",
   "metadata": {
    "id": "06bab9bf-9b2f-44a3-b5bd-dbb6c4e7b3f2"
   },
   "outputs": [],
   "source": [
    "from sklearn.metrics import roc_curve, auc\n",
    "pipelog.fit(x_train,y_train)\n",
    "probs = pipelog.predict_proba(x_test)\n",
    "fpr1, tpr1, thresholds = roc_curve(y_test, probs[:, 1], pos_label=1)\n",
    "roc_auc1 = auc(fpr1, tpr1)"
   ]
  },
  {
   "cell_type": "code",
   "execution_count": 40,
   "id": "31e34dee-a182-4e7d-a4f5-d318786e73c6",
   "metadata": {
    "id": "31e34dee-a182-4e7d-a4f5-d318786e73c6",
    "outputId": "abf19e37-043b-4f92-d3c6-a103b463a54b"
   },
   "outputs": [
    {
     "data": {
      "image/png": "[encoded data removed]",
      "text/plain": [
       "<Figure size 432x288 with 1 Axes>"
      ]
     },
     "metadata": {},
     "output_type": "display_data"
    }
   ],
   "source": [
    "plt.plot(fpr1, tpr1, label='ROC Curve 1 (AUC = %0.2f)' % (roc_auc1))\n",
    "plt.plot([0, 1], [0, 1], linestyle='--', color='red', label='Random Classifier')   \n",
    "plt.plot([0, 0, 1], [0, 1, 1], linestyle=':', color='green', label='Perfect Classifier')\n",
    "plt.xlim([-0.05, 1.05])\n",
    "plt.ylim([-0.05, 1.05])\n",
    "plt.xlabel('False positive rate')\n",
    "plt.ylabel('True positive rate')\n",
    "plt.legend(loc=\"lower right\")\n",
    "plt.show()"
   ]
  },
  {
   "cell_type": "markdown",
   "id": "190f6dd7-f7c2-4cf1-9192-93599791f13a",
   "metadata": {
    "id": "190f6dd7-f7c2-4cf1-9192-93599791f13a"
   },
   "source": [
    "### Save Model"
   ]
  },
  {
   "cell_type": "code",
   "execution_count": null,
   "id": "349de771-3b23-43fc-b5b8-1061cb77b972",
   "metadata": {
    "id": "349de771-3b23-43fc-b5b8-1061cb77b972",
    "outputId": "026fb428-c960-44c7-a69c-790c709f0b7d"
   },
   "outputs": [
    {
     "ename": "ImportError",
     "evalue": "cannot import name 'joblib' from 'sklearn.externals' (C:\\Users\\940266\\anaconda3\\lib\\site-packages\\sklearn\\externals\\__init__.py)",
     "output_type": "error",
     "traceback": [
      "\u001b[1;31m---------------------------------------------------------------------------\u001b[0m",
      "\u001b[1;31mImportError\u001b[0m                               Traceback (most recent call last)",
      "\u001b[1;32m<ipython-input-160-bdf2820564cd>\u001b[0m in \u001b[0;36m<module>\u001b[1;34m\u001b[0m\n\u001b[1;32m----> 1\u001b[1;33m \u001b[1;32mfrom\u001b[0m \u001b[0msklearn\u001b[0m\u001b[1;33m.\u001b[0m\u001b[0mexternals\u001b[0m \u001b[1;32mimport\u001b[0m \u001b[0mjoblib\u001b[0m\u001b[1;33m\u001b[0m\u001b[1;33m\u001b[0m\u001b[0m\n\u001b[0m\u001b[0;32m      2\u001b[0m \u001b[0mjoblib\u001b[0m\u001b[1;33m.\u001b[0m\u001b[0mdump\u001b[0m\u001b[1;33m(\u001b[0m\u001b[0mpipe\u001b[0m\u001b[1;33m,\u001b[0m \u001b[1;34m'logreg.pkl'\u001b[0m\u001b[1;33m)\u001b[0m\u001b[1;33m\u001b[0m\u001b[1;33m\u001b[0m\u001b[0m\n",
      "\u001b[1;31mImportError\u001b[0m: cannot import name 'joblib' from 'sklearn.externals' (C:\\Users\\940266\\anaconda3\\lib\\site-packages\\sklearn\\externals\\__init__.py)"
     ]
    }
   ],
   "source": [
    "from sklearn.externals import joblib\n",
    "joblib.dump(pipe, 'logreg.pkl') "
   ]
  },
  {
   "cell_type": "code",
   "execution_count": null,
   "id": "cf871ab3-47f8-4817-bdbb-06d681b9ba80",
   "metadata": {
    "id": "cf871ab3-47f8-4817-bdbb-06d681b9ba80",
    "outputId": "ad33375b-5e18-4eca-bbd6-8242c10356bc"
   },
   "outputs": [
    {
     "data": {
      "text/plain": [
       "['logreg.pkl']"
      ]
     },
     "execution_count": 161,
     "metadata": {},
     "output_type": "execute_result"
    }
   ],
   "source": [
    "import joblib\n",
    "joblib.dump(pipe, 'logreg.pkl')"
   ]
  },
  {
   "cell_type": "code",
   "execution_count": null,
   "id": "3cef5b68-dd73-491b-a3ef-f004df168c62",
   "metadata": {
    "id": "3cef5b68-dd73-491b-a3ef-f004df168c62",
    "outputId": "6dcae9e8-0d23-4ea6-a23f-7ca8ba3ac6f3"
   },
   "outputs": [
    {
     "data": {
      "text/plain": [
       "['logreg.joblib']"
      ]
     },
     "execution_count": 162,
     "metadata": {},
     "output_type": "execute_result"
    }
   ],
   "source": [
    "import joblib\n",
    "joblib.dump(pipe, 'logreg.joblib')"
   ]
  }
 ],
 "metadata": {
  "colab": {
   "collapsed_sections": [
    "fe3c30a7-1c73-4684-a111-6f1c260a5e56",
    "190f6dd7-f7c2-4cf1-9192-93599791f13a"
   ],
   "name": "Add On 3.ipynb",
   "provenance": []
  },
  "kernelspec": {
   "display_name": "Python 3",
   "language": "python",
   "name": "python3"
  },
  "language_info": {
   "codemirror_mode": {
    "name": "ipython",
    "version": 3
   },
   "file_extension": ".py",
   "mimetype": "text/x-python",
   "name": "python",
   "nbconvert_exporter": "python",
   "pygments_lexer": "ipython3",
   "version": "3.8.8"
  }
 },
 "nbformat": 4,
 "nbformat_minor": 5
}
